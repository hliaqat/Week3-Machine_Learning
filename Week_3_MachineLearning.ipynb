{
 "cells": [
  {
   "cell_type": "markdown",
   "metadata": {
    "colab_type": "text",
    "id": "view-in-github"
   },
   "source": [
    "<a href=\"https://colab.research.google.com/github/IAT-ExploringAI-2024/Week3-Machine_Learning/blob/main/Week_3_MachineLearning.ipynb\" target=\"_parent\"><img src=\"https://colab.research.google.com/assets/colab-badge.svg\" alt=\"Open In Colab\"/></a>"
   ]
  },
  {
   "cell_type": "code",
   "execution_count": null,
   "metadata": {
    "colab": {
     "base_uri": "https://localhost:8080/"
    },
    "id": "ywb8NifF9XN3",
    "outputId": "02574e3b-b411-4a94-d624-1abe3bcb3e45"
   },
   "outputs": [
    {
     "name": "stdout",
     "output_type": "stream",
     "text": [
      "Drive already mounted at /content/drive; to attempt to forcibly remount, call drive.mount(\"/content/drive\", force_remount=True).\n"
     ]
    }
   ],
   "source": [
    "from google.colab import drive\n",
    "drive.mount('/content/drive')"
   ]
  },
  {
   "cell_type": "markdown",
   "metadata": {
    "id": "q5CvOjjrL9gw"
   },
   "source": [
    "<center><h1> Introduction to Audio Classification with Machine Learning Models </h1></center>\n",
    "\n",
    "\n",
    "\n",
    "### Purpose\n",
    "This notebook serves as an introduction to working with audio data for classification problems; it is meant as a learning resource rather than a demonstration of the state-of-the-art. The techniques mentioned in this notebook apply not only to classification problems, but to regression problems and problems dealing with other types of input data as well. I provide an introduction to a few key machine learning models and the logic in choosing their hyperparameters. These objectives are framed by the task of recognizing emotion from snippets of speech audio.\n",
    "\n",
    " Training data should be used strictly for training a model, validation data strictly for tuning a model, and test data strictly to evaluate a model once it is tuned - a model should never be tuned to perform better on test data.\n",
    "\n",
    "\n",
    "\n",
    "\n",
    "\n",
    "Classic machine learning models such as Support Vector Machines (SVM), k Nearest Neighbours (kNN), and Random Forests have distinct advantages to deep neural networks in many tasks."
   ]
  },
  {
   "cell_type": "markdown",
   "metadata": {
    "id": "QQsTfGREL9g1"
   },
   "source": [
    "<!--TABLE OF CONTENTS-->\n",
    "\n",
    "\n",
    "# Table of Contents\n",
    "  - [Intro: Speech Emotion Recognition on the RAVDESS dataset](#Intro:-Speech-Emotion-Recognition-on-the-RAVDESS-dataset)\n",
    "  - [Machine Learning Process Overview](#Machine-Learning-Process-Overview)\n",
    "  - [Feature Extraction](#Feature-Extraction)\n",
    "    - [Load the Dataset and Compute Features](#Load-the-Dataset-and-Compute-Features)\n",
    "    - [Feature Scaling](#Feature-Scaling)\n",
    "  - [Classical Machine Learning Models](#Classical-Machine-Learning-Models)\n",
    "    - [Training: The 80/20 Split and Validation](#Training:-The-80/20-Split-and-Validation)\n",
    "    - [Comparing Models](#Comparing-Models)\n",
    "    - [The Support Vector Machine Classifier](#The-Support-Vector-Machine-Classifier)\n",
    "    - [k Nearest Neighbours](#k-Nearest-Neighbours)\n",
    "    - [Random Forests](#Random-Forests)\n",
    "\n"
   ]
  },
  {
   "cell_type": "markdown",
   "metadata": {
    "id": "hZUcbr4PL9g2",
    "pycharm": {
     "name": "#%% md\n"
    }
   },
   "source": [
    "## Intro: Speech Emotion Recognition on the RAVDESS dataset\n",
    "In this notebook we explore the most common machine learning models, specifically those available off the shelf in scikit-learn.\n",
    "\n",
    "I'm going to use the RAVDESS dataset (Ryerson Audio-Visual Database of Emotional Speech and Song dataset), created by Steven Livingstone and Frank Russo of Ryerson University. <br>\n",
    "[Details of the RAVDESS dataset](https://smartlaboratory.org/ravdess/) <br>\n",
    "[Download the dataset used in this notebook](https://zenodo.org/record/1188976) <br> Scroll half-way down the page and find \"Audio_Speech_Actors_01-24\"<br>\n",
    "\n",
    "We're going to use the audio-only speech portion of the RAVDESS dataset, ~200MB.\n",
    "Audio is sourced from 24 actors (12 male, 12 female) repeating two sentences with\n",
    "a variety of emotions and intensity. We get 1440 speech files (24 actors * 60 recordings per actor). Each audio sample has been rated  by a human 10 times for emotional quality.\n",
    "\n",
    "## Machine Learning Process Overview\n",
    "1. Feature Engineering: Choose and define the properties which our model will use to evaluate the audio files. <br>\n",
    "2. Feature Extraction: Compute the features for each audio file and build a feature matrix representing all audio files. <br>\n",
    "3. Model exploration: Test candidate models that make sense for the properies of the dataset\n",
    "4. Training the MLP Classifier model: Choose and optimize the properties of our model on validation data - hyperparameters and architechture.  <br>\n",
    "5. Evaluate our model's performance: Evaluate our model's accuracy on validation data and score it against test data which it has never seen in training.<br>\n",
    "6. Explore options for improving our model: Is our dataset the right size? Is our model too complex or too simple? <br>\n"
   ]
  },
  {
   "cell_type": "code",
   "execution_count": 154,
   "metadata": {
    "id": "b2IL0uT19_3A"
   },
   "outputs": [],
   "source": [
    "#importing the required libraries\n",
    "\n",
    "import matplotlib.pyplot as plt\n",
    "import pandas as pd\n",
    "import numpy as np\n",
    "import librosa.display\n",
    "import soundfile\n",
    "import os\n",
    "# matplotlib complains about the behaviour of librosa.display, so we'll ignore those warnings:\n",
    "import warnings; warnings.filterwarnings('ignore')"
   ]
  },
  {
   "cell_type": "markdown",
   "metadata": {
    "id": "3Cf8q4K5L9hG",
    "pycharm": {
     "name": "#%% md\n"
    }
   },
   "source": [
    "Compute the feature matrix and read the emotion labels for the entire dataset.\n",
    "Note that our regressor (independent/explanatory variable), usually denoted X, is named 'features', and our regressand (dependent variable), usually denoted y, is named 'emotions'."
   ]
  },
  {
   "cell_type": "code",
   "execution_count": 195,
   "metadata": {
    "colab": {
     "base_uri": "https://localhost:8080/"
    },
    "id": "XeKE591aL9hG",
    "outputId": "ae181c7d-c0bb-4263-84fc-cf79f71e8169",
    "pycharm": {
     "name": "#%%\n"
    }
   },
   "outputs": [],
   "source": [
    "# I stored emotions and features (before scaling) to npy arrays\n",
    "features = np.load('features/features_balanced_padded.npy', allow_pickle=True)\n",
    "emotions = np.load('features/emotions_balanced_padded.npy', allow_pickle=True)"
   ]
  },
  {
   "cell_type": "markdown",
   "metadata": {
    "id": "RVUa7RAuL9hG",
    "pycharm": {
     "name": "#%% md\n"
    }
   },
   "source": [
    "Let's see what the features we extracted look like, **also for saving both the features matrix as well as emotions array, we need to convert them to pandas dataframe.**"
   ]
  },
  {
   "cell_type": "code",
   "execution_count": 198,
   "metadata": {
    "colab": {
     "base_uri": "https://localhost:8080/",
     "height": 495
    },
    "id": "mzxX583yL9hG",
    "outputId": "41ddf378-80f2-4b00-8cdc-6a29836f651d",
    "pycharm": {
     "name": "#%%\n"
    }
   },
   "outputs": [
    {
     "name": "stdout",
     "output_type": "stream",
     "text": [
      "\n",
      "Audio samples represented: 4713\n",
      "Numerical features extracted per sample: 180\n"
     ]
    },
    {
     "data": {
      "text/html": [
       "<div>\n",
       "<style scoped>\n",
       "    .dataframe tbody tr th:only-of-type {\n",
       "        vertical-align: middle;\n",
       "    }\n",
       "\n",
       "    .dataframe tbody tr th {\n",
       "        vertical-align: top;\n",
       "    }\n",
       "\n",
       "    .dataframe thead th {\n",
       "        text-align: right;\n",
       "    }\n",
       "</style>\n",
       "<table border=\"1\" class=\"dataframe\">\n",
       "  <thead>\n",
       "    <tr style=\"text-align: right;\">\n",
       "      <th></th>\n",
       "      <th>0</th>\n",
       "      <th>1</th>\n",
       "      <th>2</th>\n",
       "      <th>3</th>\n",
       "      <th>4</th>\n",
       "      <th>5</th>\n",
       "      <th>6</th>\n",
       "      <th>7</th>\n",
       "      <th>8</th>\n",
       "      <th>9</th>\n",
       "      <th>...</th>\n",
       "      <th>170</th>\n",
       "      <th>171</th>\n",
       "      <th>172</th>\n",
       "      <th>173</th>\n",
       "      <th>174</th>\n",
       "      <th>175</th>\n",
       "      <th>176</th>\n",
       "      <th>177</th>\n",
       "      <th>178</th>\n",
       "      <th>179</th>\n",
       "    </tr>\n",
       "  </thead>\n",
       "  <tbody>\n",
       "    <tr>\n",
       "      <th>0</th>\n",
       "      <td>0.357372</td>\n",
       "      <td>0.350758</td>\n",
       "      <td>0.355215</td>\n",
       "      <td>0.377608</td>\n",
       "      <td>0.407056</td>\n",
       "      <td>0.418601</td>\n",
       "      <td>0.438546</td>\n",
       "      <td>0.448411</td>\n",
       "      <td>0.477085</td>\n",
       "      <td>0.446341</td>\n",
       "      <td>...</td>\n",
       "      <td>-0.222665</td>\n",
       "      <td>-0.864591</td>\n",
       "      <td>1.525091</td>\n",
       "      <td>2.606979</td>\n",
       "      <td>2.534730</td>\n",
       "      <td>3.437823</td>\n",
       "      <td>4.284205</td>\n",
       "      <td>4.808087</td>\n",
       "      <td>4.899279</td>\n",
       "      <td>5.160945</td>\n",
       "    </tr>\n",
       "    <tr>\n",
       "      <th>1</th>\n",
       "      <td>0.273057</td>\n",
       "      <td>0.266521</td>\n",
       "      <td>0.277758</td>\n",
       "      <td>0.276338</td>\n",
       "      <td>0.278115</td>\n",
       "      <td>0.283386</td>\n",
       "      <td>0.271494</td>\n",
       "      <td>0.269115</td>\n",
       "      <td>0.278246</td>\n",
       "      <td>0.276169</td>\n",
       "      <td>...</td>\n",
       "      <td>-0.077237</td>\n",
       "      <td>0.040809</td>\n",
       "      <td>0.767848</td>\n",
       "      <td>0.628711</td>\n",
       "      <td>0.419756</td>\n",
       "      <td>0.276583</td>\n",
       "      <td>0.076499</td>\n",
       "      <td>0.425789</td>\n",
       "      <td>0.694645</td>\n",
       "      <td>0.487888</td>\n",
       "    </tr>\n",
       "    <tr>\n",
       "      <th>2</th>\n",
       "      <td>0.251667</td>\n",
       "      <td>0.252164</td>\n",
       "      <td>0.251419</td>\n",
       "      <td>0.252120</td>\n",
       "      <td>0.256028</td>\n",
       "      <td>0.265926</td>\n",
       "      <td>0.264696</td>\n",
       "      <td>0.271186</td>\n",
       "      <td>0.253847</td>\n",
       "      <td>0.227180</td>\n",
       "      <td>...</td>\n",
       "      <td>-0.285090</td>\n",
       "      <td>-0.558302</td>\n",
       "      <td>0.033901</td>\n",
       "      <td>0.074199</td>\n",
       "      <td>-0.147530</td>\n",
       "      <td>-0.433407</td>\n",
       "      <td>-0.255643</td>\n",
       "      <td>0.670337</td>\n",
       "      <td>1.160430</td>\n",
       "      <td>1.330201</td>\n",
       "    </tr>\n",
       "    <tr>\n",
       "      <th>3</th>\n",
       "      <td>0.264806</td>\n",
       "      <td>0.243817</td>\n",
       "      <td>0.226059</td>\n",
       "      <td>0.231236</td>\n",
       "      <td>0.240057</td>\n",
       "      <td>0.253120</td>\n",
       "      <td>0.260996</td>\n",
       "      <td>0.274748</td>\n",
       "      <td>0.292593</td>\n",
       "      <td>0.296346</td>\n",
       "      <td>...</td>\n",
       "      <td>-0.222808</td>\n",
       "      <td>0.755626</td>\n",
       "      <td>2.273790</td>\n",
       "      <td>1.589233</td>\n",
       "      <td>0.974935</td>\n",
       "      <td>1.948536</td>\n",
       "      <td>2.536654</td>\n",
       "      <td>2.668437</td>\n",
       "      <td>3.099718</td>\n",
       "      <td>2.903855</td>\n",
       "    </tr>\n",
       "    <tr>\n",
       "      <th>4</th>\n",
       "      <td>0.530700</td>\n",
       "      <td>0.536529</td>\n",
       "      <td>0.496268</td>\n",
       "      <td>0.453294</td>\n",
       "      <td>0.424597</td>\n",
       "      <td>0.407196</td>\n",
       "      <td>0.373186</td>\n",
       "      <td>0.382065</td>\n",
       "      <td>0.409328</td>\n",
       "      <td>0.444360</td>\n",
       "      <td>...</td>\n",
       "      <td>-0.578361</td>\n",
       "      <td>-1.448168</td>\n",
       "      <td>-0.689472</td>\n",
       "      <td>-0.603951</td>\n",
       "      <td>-1.462248</td>\n",
       "      <td>-1.172672</td>\n",
       "      <td>-0.457201</td>\n",
       "      <td>-0.814777</td>\n",
       "      <td>-1.163626</td>\n",
       "      <td>-0.044353</td>\n",
       "    </tr>\n",
       "    <tr>\n",
       "      <th>...</th>\n",
       "      <td>...</td>\n",
       "      <td>...</td>\n",
       "      <td>...</td>\n",
       "      <td>...</td>\n",
       "      <td>...</td>\n",
       "      <td>...</td>\n",
       "      <td>...</td>\n",
       "      <td>...</td>\n",
       "      <td>...</td>\n",
       "      <td>...</td>\n",
       "      <td>...</td>\n",
       "      <td>...</td>\n",
       "      <td>...</td>\n",
       "      <td>...</td>\n",
       "      <td>...</td>\n",
       "      <td>...</td>\n",
       "      <td>...</td>\n",
       "      <td>...</td>\n",
       "      <td>...</td>\n",
       "      <td>...</td>\n",
       "      <td>...</td>\n",
       "    </tr>\n",
       "    <tr>\n",
       "      <th>4708</th>\n",
       "      <td>0.309952</td>\n",
       "      <td>0.305672</td>\n",
       "      <td>0.314143</td>\n",
       "      <td>0.330683</td>\n",
       "      <td>0.356759</td>\n",
       "      <td>0.364574</td>\n",
       "      <td>0.355060</td>\n",
       "      <td>0.326749</td>\n",
       "      <td>0.315092</td>\n",
       "      <td>0.303695</td>\n",
       "      <td>...</td>\n",
       "      <td>1.812679</td>\n",
       "      <td>2.114691</td>\n",
       "      <td>2.019516</td>\n",
       "      <td>1.826593</td>\n",
       "      <td>2.186912</td>\n",
       "      <td>1.931361</td>\n",
       "      <td>1.742282</td>\n",
       "      <td>1.172976</td>\n",
       "      <td>0.957203</td>\n",
       "      <td>1.666884</td>\n",
       "    </tr>\n",
       "    <tr>\n",
       "      <th>4709</th>\n",
       "      <td>0.310878</td>\n",
       "      <td>0.299137</td>\n",
       "      <td>0.301815</td>\n",
       "      <td>0.304222</td>\n",
       "      <td>0.305432</td>\n",
       "      <td>0.315498</td>\n",
       "      <td>0.332325</td>\n",
       "      <td>0.333172</td>\n",
       "      <td>0.343122</td>\n",
       "      <td>0.359241</td>\n",
       "      <td>...</td>\n",
       "      <td>0.884123</td>\n",
       "      <td>0.888577</td>\n",
       "      <td>1.179472</td>\n",
       "      <td>1.117117</td>\n",
       "      <td>1.812654</td>\n",
       "      <td>2.100505</td>\n",
       "      <td>2.638184</td>\n",
       "      <td>2.257164</td>\n",
       "      <td>2.320129</td>\n",
       "      <td>2.437096</td>\n",
       "    </tr>\n",
       "    <tr>\n",
       "      <th>4710</th>\n",
       "      <td>0.309362</td>\n",
       "      <td>0.277336</td>\n",
       "      <td>0.262854</td>\n",
       "      <td>0.271843</td>\n",
       "      <td>0.289005</td>\n",
       "      <td>0.307245</td>\n",
       "      <td>0.332779</td>\n",
       "      <td>0.345538</td>\n",
       "      <td>0.314974</td>\n",
       "      <td>0.287248</td>\n",
       "      <td>...</td>\n",
       "      <td>1.406326</td>\n",
       "      <td>2.192247</td>\n",
       "      <td>2.651848</td>\n",
       "      <td>3.044189</td>\n",
       "      <td>2.639204</td>\n",
       "      <td>1.871945</td>\n",
       "      <td>0.770962</td>\n",
       "      <td>0.753252</td>\n",
       "      <td>1.314361</td>\n",
       "      <td>1.690522</td>\n",
       "    </tr>\n",
       "    <tr>\n",
       "      <th>4711</th>\n",
       "      <td>0.309595</td>\n",
       "      <td>0.301507</td>\n",
       "      <td>0.289142</td>\n",
       "      <td>0.298932</td>\n",
       "      <td>0.314113</td>\n",
       "      <td>0.350595</td>\n",
       "      <td>0.357821</td>\n",
       "      <td>0.359175</td>\n",
       "      <td>0.359083</td>\n",
       "      <td>0.337191</td>\n",
       "      <td>...</td>\n",
       "      <td>0.837650</td>\n",
       "      <td>1.674450</td>\n",
       "      <td>1.243905</td>\n",
       "      <td>1.160563</td>\n",
       "      <td>0.981831</td>\n",
       "      <td>0.964981</td>\n",
       "      <td>0.640209</td>\n",
       "      <td>0.517823</td>\n",
       "      <td>0.810775</td>\n",
       "      <td>1.139527</td>\n",
       "    </tr>\n",
       "    <tr>\n",
       "      <th>4712</th>\n",
       "      <td>0.287315</td>\n",
       "      <td>0.273400</td>\n",
       "      <td>0.294906</td>\n",
       "      <td>0.299849</td>\n",
       "      <td>0.302004</td>\n",
       "      <td>0.332082</td>\n",
       "      <td>0.369529</td>\n",
       "      <td>0.372249</td>\n",
       "      <td>0.352502</td>\n",
       "      <td>0.330020</td>\n",
       "      <td>...</td>\n",
       "      <td>-0.503388</td>\n",
       "      <td>0.104604</td>\n",
       "      <td>-0.778733</td>\n",
       "      <td>0.356885</td>\n",
       "      <td>0.258932</td>\n",
       "      <td>1.139656</td>\n",
       "      <td>0.453808</td>\n",
       "      <td>0.384795</td>\n",
       "      <td>-0.046998</td>\n",
       "      <td>0.927608</td>\n",
       "    </tr>\n",
       "  </tbody>\n",
       "</table>\n",
       "<p>4713 rows × 180 columns</p>\n",
       "</div>"
      ],
      "text/plain": [
       "           0         1         2         3         4         5         6    \\\n",
       "0     0.357372  0.350758  0.355215  0.377608  0.407056  0.418601  0.438546   \n",
       "1     0.273057  0.266521  0.277758  0.276338  0.278115  0.283386  0.271494   \n",
       "2     0.251667  0.252164  0.251419  0.252120  0.256028  0.265926  0.264696   \n",
       "3     0.264806  0.243817  0.226059  0.231236  0.240057  0.253120  0.260996   \n",
       "4     0.530700  0.536529  0.496268  0.453294  0.424597  0.407196  0.373186   \n",
       "...        ...       ...       ...       ...       ...       ...       ...   \n",
       "4708  0.309952  0.305672  0.314143  0.330683  0.356759  0.364574  0.355060   \n",
       "4709  0.310878  0.299137  0.301815  0.304222  0.305432  0.315498  0.332325   \n",
       "4710  0.309362  0.277336  0.262854  0.271843  0.289005  0.307245  0.332779   \n",
       "4711  0.309595  0.301507  0.289142  0.298932  0.314113  0.350595  0.357821   \n",
       "4712  0.287315  0.273400  0.294906  0.299849  0.302004  0.332082  0.369529   \n",
       "\n",
       "           7         8         9    ...       170       171       172  \\\n",
       "0     0.448411  0.477085  0.446341  ... -0.222665 -0.864591  1.525091   \n",
       "1     0.269115  0.278246  0.276169  ... -0.077237  0.040809  0.767848   \n",
       "2     0.271186  0.253847  0.227180  ... -0.285090 -0.558302  0.033901   \n",
       "3     0.274748  0.292593  0.296346  ... -0.222808  0.755626  2.273790   \n",
       "4     0.382065  0.409328  0.444360  ... -0.578361 -1.448168 -0.689472   \n",
       "...        ...       ...       ...  ...       ...       ...       ...   \n",
       "4708  0.326749  0.315092  0.303695  ...  1.812679  2.114691  2.019516   \n",
       "4709  0.333172  0.343122  0.359241  ...  0.884123  0.888577  1.179472   \n",
       "4710  0.345538  0.314974  0.287248  ...  1.406326  2.192247  2.651848   \n",
       "4711  0.359175  0.359083  0.337191  ...  0.837650  1.674450  1.243905   \n",
       "4712  0.372249  0.352502  0.330020  ... -0.503388  0.104604 -0.778733   \n",
       "\n",
       "           173       174       175       176       177       178       179  \n",
       "0     2.606979  2.534730  3.437823  4.284205  4.808087  4.899279  5.160945  \n",
       "1     0.628711  0.419756  0.276583  0.076499  0.425789  0.694645  0.487888  \n",
       "2     0.074199 -0.147530 -0.433407 -0.255643  0.670337  1.160430  1.330201  \n",
       "3     1.589233  0.974935  1.948536  2.536654  2.668437  3.099718  2.903855  \n",
       "4    -0.603951 -1.462248 -1.172672 -0.457201 -0.814777 -1.163626 -0.044353  \n",
       "...        ...       ...       ...       ...       ...       ...       ...  \n",
       "4708  1.826593  2.186912  1.931361  1.742282  1.172976  0.957203  1.666884  \n",
       "4709  1.117117  1.812654  2.100505  2.638184  2.257164  2.320129  2.437096  \n",
       "4710  3.044189  2.639204  1.871945  0.770962  0.753252  1.314361  1.690522  \n",
       "4711  1.160563  0.981831  0.964981  0.640209  0.517823  0.810775  1.139527  \n",
       "4712  0.356885  0.258932  1.139656  0.453808  0.384795 -0.046998  0.927608  \n",
       "\n",
       "[4713 rows x 180 columns]"
      ]
     },
     "execution_count": 198,
     "metadata": {},
     "output_type": "execute_result"
    }
   ],
   "source": [
    "print(f'\\nAudio samples represented: {features.shape[0]}')\n",
    "print(f'Numerical features extracted per sample: {features.shape[1]}')\n",
    "features_df = pd.DataFrame(features) # make it pretty for display\n",
    "\n",
    "\n",
    "#making dataframe for emotions as well\n",
    "emotions_df = pd.DataFrame(emotions) # make it pretty for display\n",
    "\n",
    "features_df"
   ]
  },
  {
   "cell_type": "markdown",
   "metadata": {
    "id": "Tq083zLEL9hH",
    "pycharm": {
     "name": "#%% md\n"
    }
   },
   "source": [
    "We have a matrix of dim 1435 x 180. Looks good - 1435 audio samples, one per row, with a series of\n",
    "180 numerical features for each sample.\n",
    "\n",
    "**Each of the 1435 feature arrays has 180 features composed of 12 chromagram pitch classes + 128 mel spectrogram bands + 40 MFC coefficients.**"
   ]
  },
  {
   "cell_type": "markdown",
   "metadata": {
    "id": "VpE5m-5aEyoB"
   },
   "source": [
    "## Load pre-saved Dataset"
   ]
  },
  {
   "cell_type": "code",
   "execution_count": 200,
   "metadata": {
    "id": "-8nlJCESEn56"
   },
   "outputs": [],
   "source": [
    "\n",
    "features = features_df.copy()\n",
    "emotions = emotions_df.copy()"
   ]
  },
  {
   "cell_type": "markdown",
   "metadata": {
    "id": "4x2dXjybD1NM"
   },
   "source": [
    "let's see if they have been loaded correctly!"
   ]
  },
  {
   "cell_type": "code",
   "execution_count": 201,
   "metadata": {
    "colab": {
     "base_uri": "https://localhost:8080/",
     "height": 255
    },
    "id": "B5Xo1SVMD0qR",
    "outputId": "98300373-d0fd-4da6-eee2-60668cbc10a9"
   },
   "outputs": [
    {
     "data": {
      "text/html": [
       "<div>\n",
       "<style scoped>\n",
       "    .dataframe tbody tr th:only-of-type {\n",
       "        vertical-align: middle;\n",
       "    }\n",
       "\n",
       "    .dataframe tbody tr th {\n",
       "        vertical-align: top;\n",
       "    }\n",
       "\n",
       "    .dataframe thead th {\n",
       "        text-align: right;\n",
       "    }\n",
       "</style>\n",
       "<table border=\"1\" class=\"dataframe\">\n",
       "  <thead>\n",
       "    <tr style=\"text-align: right;\">\n",
       "      <th></th>\n",
       "      <th>0</th>\n",
       "      <th>1</th>\n",
       "      <th>2</th>\n",
       "      <th>3</th>\n",
       "      <th>4</th>\n",
       "      <th>5</th>\n",
       "      <th>6</th>\n",
       "      <th>7</th>\n",
       "      <th>8</th>\n",
       "      <th>9</th>\n",
       "      <th>...</th>\n",
       "      <th>170</th>\n",
       "      <th>171</th>\n",
       "      <th>172</th>\n",
       "      <th>173</th>\n",
       "      <th>174</th>\n",
       "      <th>175</th>\n",
       "      <th>176</th>\n",
       "      <th>177</th>\n",
       "      <th>178</th>\n",
       "      <th>179</th>\n",
       "    </tr>\n",
       "  </thead>\n",
       "  <tbody>\n",
       "    <tr>\n",
       "      <th>0</th>\n",
       "      <td>0.357372</td>\n",
       "      <td>0.350758</td>\n",
       "      <td>0.355215</td>\n",
       "      <td>0.377608</td>\n",
       "      <td>0.407056</td>\n",
       "      <td>0.418601</td>\n",
       "      <td>0.438546</td>\n",
       "      <td>0.448411</td>\n",
       "      <td>0.477085</td>\n",
       "      <td>0.446341</td>\n",
       "      <td>...</td>\n",
       "      <td>-0.222665</td>\n",
       "      <td>-0.864591</td>\n",
       "      <td>1.525091</td>\n",
       "      <td>2.606979</td>\n",
       "      <td>2.534730</td>\n",
       "      <td>3.437823</td>\n",
       "      <td>4.284205</td>\n",
       "      <td>4.808087</td>\n",
       "      <td>4.899279</td>\n",
       "      <td>5.160945</td>\n",
       "    </tr>\n",
       "    <tr>\n",
       "      <th>1</th>\n",
       "      <td>0.273057</td>\n",
       "      <td>0.266521</td>\n",
       "      <td>0.277758</td>\n",
       "      <td>0.276338</td>\n",
       "      <td>0.278115</td>\n",
       "      <td>0.283386</td>\n",
       "      <td>0.271494</td>\n",
       "      <td>0.269115</td>\n",
       "      <td>0.278246</td>\n",
       "      <td>0.276169</td>\n",
       "      <td>...</td>\n",
       "      <td>-0.077237</td>\n",
       "      <td>0.040809</td>\n",
       "      <td>0.767848</td>\n",
       "      <td>0.628711</td>\n",
       "      <td>0.419756</td>\n",
       "      <td>0.276583</td>\n",
       "      <td>0.076499</td>\n",
       "      <td>0.425789</td>\n",
       "      <td>0.694645</td>\n",
       "      <td>0.487888</td>\n",
       "    </tr>\n",
       "    <tr>\n",
       "      <th>2</th>\n",
       "      <td>0.251667</td>\n",
       "      <td>0.252164</td>\n",
       "      <td>0.251419</td>\n",
       "      <td>0.252120</td>\n",
       "      <td>0.256028</td>\n",
       "      <td>0.265926</td>\n",
       "      <td>0.264696</td>\n",
       "      <td>0.271186</td>\n",
       "      <td>0.253847</td>\n",
       "      <td>0.227180</td>\n",
       "      <td>...</td>\n",
       "      <td>-0.285090</td>\n",
       "      <td>-0.558302</td>\n",
       "      <td>0.033901</td>\n",
       "      <td>0.074199</td>\n",
       "      <td>-0.147530</td>\n",
       "      <td>-0.433407</td>\n",
       "      <td>-0.255643</td>\n",
       "      <td>0.670337</td>\n",
       "      <td>1.160430</td>\n",
       "      <td>1.330201</td>\n",
       "    </tr>\n",
       "    <tr>\n",
       "      <th>3</th>\n",
       "      <td>0.264806</td>\n",
       "      <td>0.243817</td>\n",
       "      <td>0.226059</td>\n",
       "      <td>0.231236</td>\n",
       "      <td>0.240057</td>\n",
       "      <td>0.253120</td>\n",
       "      <td>0.260996</td>\n",
       "      <td>0.274748</td>\n",
       "      <td>0.292593</td>\n",
       "      <td>0.296346</td>\n",
       "      <td>...</td>\n",
       "      <td>-0.222808</td>\n",
       "      <td>0.755626</td>\n",
       "      <td>2.273790</td>\n",
       "      <td>1.589233</td>\n",
       "      <td>0.974935</td>\n",
       "      <td>1.948536</td>\n",
       "      <td>2.536654</td>\n",
       "      <td>2.668437</td>\n",
       "      <td>3.099718</td>\n",
       "      <td>2.903855</td>\n",
       "    </tr>\n",
       "    <tr>\n",
       "      <th>4</th>\n",
       "      <td>0.530700</td>\n",
       "      <td>0.536529</td>\n",
       "      <td>0.496268</td>\n",
       "      <td>0.453294</td>\n",
       "      <td>0.424597</td>\n",
       "      <td>0.407196</td>\n",
       "      <td>0.373186</td>\n",
       "      <td>0.382065</td>\n",
       "      <td>0.409328</td>\n",
       "      <td>0.444360</td>\n",
       "      <td>...</td>\n",
       "      <td>-0.578361</td>\n",
       "      <td>-1.448168</td>\n",
       "      <td>-0.689472</td>\n",
       "      <td>-0.603951</td>\n",
       "      <td>-1.462248</td>\n",
       "      <td>-1.172672</td>\n",
       "      <td>-0.457201</td>\n",
       "      <td>-0.814777</td>\n",
       "      <td>-1.163626</td>\n",
       "      <td>-0.044353</td>\n",
       "    </tr>\n",
       "  </tbody>\n",
       "</table>\n",
       "<p>5 rows × 180 columns</p>\n",
       "</div>"
      ],
      "text/plain": [
       "        0         1         2         3         4         5         6    \\\n",
       "0  0.357372  0.350758  0.355215  0.377608  0.407056  0.418601  0.438546   \n",
       "1  0.273057  0.266521  0.277758  0.276338  0.278115  0.283386  0.271494   \n",
       "2  0.251667  0.252164  0.251419  0.252120  0.256028  0.265926  0.264696   \n",
       "3  0.264806  0.243817  0.226059  0.231236  0.240057  0.253120  0.260996   \n",
       "4  0.530700  0.536529  0.496268  0.453294  0.424597  0.407196  0.373186   \n",
       "\n",
       "        7         8         9    ...       170       171       172       173  \\\n",
       "0  0.448411  0.477085  0.446341  ... -0.222665 -0.864591  1.525091  2.606979   \n",
       "1  0.269115  0.278246  0.276169  ... -0.077237  0.040809  0.767848  0.628711   \n",
       "2  0.271186  0.253847  0.227180  ... -0.285090 -0.558302  0.033901  0.074199   \n",
       "3  0.274748  0.292593  0.296346  ... -0.222808  0.755626  2.273790  1.589233   \n",
       "4  0.382065  0.409328  0.444360  ... -0.578361 -1.448168 -0.689472 -0.603951   \n",
       "\n",
       "        174       175       176       177       178       179  \n",
       "0  2.534730  3.437823  4.284205  4.808087  4.899279  5.160945  \n",
       "1  0.419756  0.276583  0.076499  0.425789  0.694645  0.487888  \n",
       "2 -0.147530 -0.433407 -0.255643  0.670337  1.160430  1.330201  \n",
       "3  0.974935  1.948536  2.536654  2.668437  3.099718  2.903855  \n",
       "4 -1.462248 -1.172672 -0.457201 -0.814777 -1.163626 -0.044353  \n",
       "\n",
       "[5 rows x 180 columns]"
      ]
     },
     "execution_count": 201,
     "metadata": {},
     "output_type": "execute_result"
    }
   ],
   "source": [
    "features.head()"
   ]
  },
  {
   "cell_type": "code",
   "execution_count": 213,
   "metadata": {},
   "outputs": [],
   "source": [
    "# Code from: https://stackoverflow.com/questions/58808523/how-do-i-remove-a-value-from-a-list-and-remove-a-value-in-the-same-position-fro\n",
    "def remove_calm(features_, emotions_):\n",
    "    todrop = []\n",
    "    for i in reversed(range(len(emotions_))):\n",
    "        if emotions_[0][i] == 'calm':\n",
    "            todrop.append(i)\n",
    "    print(todrop)\n",
    "    print(len(todrop))\n",
    "    emotions_ = emotions_.drop(todrop,axis='index')\n",
    "    features_ = features_.drop(todrop,axis='index')\n",
    "    return features_, emotions_"
   ]
  },
  {
   "cell_type": "code",
   "execution_count": 203,
   "metadata": {},
   "outputs": [
    {
     "name": "stdout",
     "output_type": "stream",
     "text": [
      "[4712, 4704, 4699, 4698, 4666, 4665, 4661, 4653, 4638, 4634, 4630, 4625, 4622, 4617, 4609, 4592, 4587, 4583, 4579, 4550, 4546, 4541, 4536, 4522, 4514, 4510, 4509, 4501, 4500, 4495, 4487, 4461, 4456, 4451, 4447, 4442, 4438, 4434, 4429, 4401, 4396, 4391, 4387, 4382, 4378, 4374, 4369, 4352, 4348, 4343, 4338, 4310, 4305, 4301, 4297, 4279, 4278, 4273, 4265, 4264, 4256, 4252, 4251, 4221, 4216, 4211, 4207, 4202, 4198, 4194, 4189, 4172, 4168, 4163, 4158, 4130, 4125, 4121, 4117, 4099, 4098, 4093, 4085, 4084, 4076, 4072, 4071, 4054, 4046, 4041, 4040, 4008, 4007, 4003, 3995, 3992, 3988, 3984, 3979, 3951, 3946, 3938, 3921, 3916, 3912, 3908, 3903, 3899, 3894, 3889, 3875, 3867, 3863, 3862, 3830, 3829, 3824, 3816, 3799, 3798, 3794, 3786, 3785, 3777, 3772, 3771, 3754, 3749, 3744, 3740, 3711, 3707, 3703, 3698, 3681, 3677, 3672, 3667, 3663, 3658, 3654, 3650, 3635, 3627, 3623, 3622, 3590, 3589, 3584, 3576, 3563, 3555, 3550, 3549, 3541, 3540, 3536, 3528, 3514, 3509, 3504, 3500, 3472, 3468, 3464, 3460, 3443, 3438, 3434, 3430, 3425, 3421, 3416, 3411, 3394, 3393, 3388, 3380, 3355, 3347, 3343, 3342, 3325, 3317, 3312, 3311, 3303, 3302, 3298, 3290]\n",
      "190\n"
     ]
    }
   ],
   "source": [
    "features, emotions = remove_calm(features, emotions)"
   ]
  },
  {
   "cell_type": "markdown",
   "metadata": {
    "id": "esInVDq7L9hT"
   },
   "source": [
    "Let's see the class balance of our dataset:"
   ]
  },
  {
   "cell_type": "code",
   "execution_count": 205,
   "metadata": {
    "colab": {
     "base_uri": "https://localhost:8080/",
     "height": 399
    },
    "id": "Si3OFQe7L9hU",
    "outputId": "6d693311-c9fc-42e6-a904-3f05dee87b75"
   },
   "outputs": [
    {
     "data": {
      "image/png": "[encoded data removed]",
      "text/plain": [
       "<Figure size 3500x400 with 1 Axes>"
      ]
     },
     "metadata": {},
     "output_type": "display_data"
    }
   ],
   "source": [
    "# plot emotions\n",
    "plt.figure(figsize=(35,4))\n",
    "plt.subplot(1,3,1)\n",
    "#np.unique returns ordered list of unique elements and count of each element\n",
    "emotion_list, count = np.unique(emotions, return_counts=True)\n",
    "plt.bar(x=range(7), height=count)\n",
    "plt.xticks(ticks=range(7), labels = [emotion for emotion in emotion_list],fontsize=10)\n",
    "plt.xlabel('Emotion')\n",
    "plt.tick_params(labelsize=16)\n",
    "plt.ylabel('Number of Samples')\n",
    "plt.show()"
   ]
  },
  {
   "cell_type": "markdown",
   "metadata": {
    "id": "Mw_wKC8WL9hV"
   },
   "source": [
    "**Great, the classes appear to be balanced. That makes the task easier.** All emotions _except_ the neutral class have a \"strong\" intensity so there are half as many neutral samples. That might have an impact."
   ]
  },
  {
   "cell_type": "markdown",
   "metadata": {
    "id": "WhtlYshOL9hV"
   },
   "source": [
    "### Feature Scaling\n",
    "To properly train most machine learning models on _most_ datasets, we first need to scale our features. **This is crucial for models which compute distances between data, and especially critical for DNNs**: If there is a difference in the variance of features simply because of their possible range of values, then a model will learn that the features with the greatest variance are the most important. However, **differences in the variance of unscaled features belonging to different and unknown distributions is an inappropriate measure of importance.** Let's check our features' properties:"
   ]
  },
  {
   "cell_type": "code",
   "execution_count": 206,
   "metadata": {
    "colab": {
     "base_uri": "https://localhost:8080/"
    },
    "id": "_IUm1DLwL9hW",
    "outputId": "e4579adb-159a-4a4f-a1f4-2d49dd528fae"
   },
   "outputs": [
    {
     "name": "stdout",
     "output_type": "stream",
     "text": [
      "12 Chromagram features:           min = 0.031,     max = 0.632,     mean = 0.200,     deviation = 0.100\n",
      "\n",
      "128 Mel Spectrogram features:     min = 0.000,     max = 442.367,     mean = 0.368,     deviation = 4.163\n",
      "\n",
      "40 MFCC features:                 min = -982.325,    max = 101.353,    mean = -15.103,    deviation = 100.702\n"
     ]
    }
   ],
   "source": [
    "# We would usually use df.describe(), but it provides a bit of a mess of information we don't need at the moment.\n",
    "def print_features(df):\n",
    "    # Check chromagram feature values\n",
    "    features_df_chromagram = df.loc[:,:11]\n",
    "    chroma_min = features_df_chromagram.min().min()\n",
    "    chroma_max = features_df_chromagram.max().max()\n",
    "    # stack all features into a single series so we don't get a mean of means or stdev of stdevs\n",
    "    chroma_mean = features_df_chromagram.stack().mean()\n",
    "    chroma_stdev = features_df_chromagram.stack().std()\n",
    "    print(f'12 Chromagram features:       \\\n",
    "    min = {chroma_min:.3f}, \\\n",
    "    max = {chroma_max:.3f}, \\\n",
    "    mean = {chroma_mean:.3f}, \\\n",
    "    deviation = {chroma_stdev:.3f}')\n",
    "\n",
    "    # Check mel spectrogram feature values\n",
    "    features_df_melspectrogram = df.loc[:,12:139]\n",
    "    mel_min = features_df_melspectrogram.min().min()\n",
    "    mel_max = features_df_melspectrogram.max().max()\n",
    "    # stack all features into a single series so we don't get a mean of means or stdev of stdevs\n",
    "    mel_mean = features_df_melspectrogram.stack().mean()\n",
    "    mel_stdev = features_df_melspectrogram.stack().std()\n",
    "    print(f'\\n128 Mel Spectrogram features: \\\n",
    "    min = {mel_min:.3f}, \\\n",
    "    max = {mel_max:.3f}, \\\n",
    "    mean = {mel_mean:.3f}, \\\n",
    "    deviation = {mel_stdev:.3f}')\n",
    "\n",
    "    # Check MFCC feature values\n",
    "    features_df_mfcc = df.loc[:,140:179]\n",
    "    mfcc_min = features_df_mfcc.min().min()\n",
    "    mfcc_max = features_df_mfcc.max().max()\n",
    "    # stack all features into a single series so we don't get a mean of means or stdev of stdevs\n",
    "    mfcc_mean = features_df_mfcc.stack().mean()\n",
    "    mfcc_stdev = features_df_mfcc.stack().std()\n",
    "    print(f'\\n40 MFCC features:             \\\n",
    "    min = {mfcc_min:.3f},\\\n",
    "    max = {mfcc_max:.3f},\\\n",
    "    mean = {mfcc_mean:.3f},\\\n",
    "    deviation = {mfcc_stdev:.3f}')\n",
    "\n",
    "print_features(features_df)"
   ]
  },
  {
   "cell_type": "markdown",
   "metadata": {
    "id": "gFgQlYSlL9hW"
   },
   "source": [
    "**There's an obvious imbalance in the variance our features; Our features indeed belong to very different distributions:** our MFC coefficients' deviation is greater than the other features by orders of magnitude. That does not mean MFC coefficients are the most important feature, but rather it is a property of the way they are computed.  We will certainly need to scale this feature set.\n",
    "\n",
    "We have the choice of sklearn's StandardScaler and MinMaxScaler. Standard scaling subtracts the mean of each feature and divides it by the standard deviation of that feature, producing features with mean at zero and unit variance - that is, a variance and standard deviation of 1. Min-Max scaling transforms each feature to be within a bounded interval that we specify.\n",
    "\n",
    "In practice, **MinMax scaling is especially useful when we know our features should be in a bounded interval**, such as pixel values in [0,255], while **standard scaling is perhaps more practical for features with unknown distributions** because centering the features at zero-mean with a standard deviation of 1 means extreme values will have less of an impact on the model's learned weights, i.e. the model is less sensitive to outliers.\n",
    "\n",
    "We'll create MinMax scaled features as well so we can give them a try later on to confirm that standard scaling is better in the absence of knowledge on the appropriate distribution for a dataset's features."
   ]
  },
  {
   "cell_type": "code",
   "execution_count": 207,
   "metadata": {
    "id": "_BCAYVEUL9hW"
   },
   "outputs": [],
   "source": [
    "from sklearn.preprocessing import StandardScaler\n",
    "from sklearn.preprocessing import MinMaxScaler\n",
    "\n",
    "scaler = StandardScaler()\n",
    "# keep our unscaled features just in case we need to process them alternatively\n",
    "features_scaled = features\n",
    "features_scaled = scaler.fit_transform(features_scaled)\n",
    "\n",
    "scaler = MinMaxScaler()\n",
    "# keep our unscaled features just in case we need to process them alternatively\n",
    "features_minmax = features\n",
    "features_minmax = scaler.fit_transform(features_minmax)"
   ]
  },
  {
   "cell_type": "markdown",
   "metadata": {
    "id": "r4ATx5oNL9hX"
   },
   "source": [
    "Make sure our features are properly scaled:"
   ]
  },
  {
   "cell_type": "code",
   "execution_count": 208,
   "metadata": {
    "colab": {
     "base_uri": "https://localhost:8080/"
    },
    "id": "mlRuHQkKL9hX",
    "outputId": "4bd31c3c-47ed-4f16-d45c-0767ceb48da8"
   },
   "outputs": [
    {
     "name": "stdout",
     "output_type": "stream",
     "text": [
      "\u001b[1mStandard Scaling:\n",
      "\u001b[0m\n",
      "12 Chromagram features:           min = -1.797,     max = 4.410,     mean = 0.000,     deviation = 1.000\n",
      "\n",
      "128 Mel Spectrogram features:     min = -0.548,     max = 61.633,     mean = 0.000,     deviation = 1.000\n",
      "\n",
      "40 MFCC features:                 min = -5.010,    max = 6.651,    mean = 0.000,    deviation = 1.000\n",
      "\n",
      "\n",
      "\u001b[1mMinMax Scaling:\n",
      "\u001b[0m\n",
      "12 Chromagram features:           min = 0.000,     max = 1.000,     mean = 0.278,     deviation = 0.180\n",
      "\n",
      "128 Mel Spectrogram features:     min = 0.000,     max = 1.000,     mean = 0.013,     deviation = 0.051\n",
      "\n",
      "40 MFCC features:                 min = 0.000,    max = 1.000,    mean = 0.398,    deviation = 0.161\n"
     ]
    }
   ],
   "source": [
    "print('\\033[1m'+'Standard Scaling:\\n'+'\\033[0m')\n",
    "features_scaled_df = pd.DataFrame(features_scaled)\n",
    "print_features(features_scaled_df)\n",
    "\n",
    "print('\\n\\n\\033[1m'+'MinMax Scaling:\\n'+'\\033[0m')\n",
    "features_minmax_df = pd.DataFrame(features_minmax)\n",
    "print_features(features_minmax_df)"
   ]
  },
  {
   "cell_type": "markdown",
   "metadata": {
    "id": "vZfzIh7DL9hX"
   },
   "source": [
    "Perfect. Zero mean and unit variance for standard scaling and in the range [0,1] for MinMax scaling - a default when we don't specify values. We can now move on to building predictive models for these features."
   ]
  },
  {
   "cell_type": "markdown",
   "metadata": {
    "id": "z5tXewLEL9hX"
   },
   "source": [
    "## Classical Machine Learning Models\n",
    "\n",
    "\n",
    "Classical machine learning models encompass a broad range of algorithms that have been foundational to the field's development and are still widely used for various predictive tasks. These models can be broadly categorized into supervised and unsupervised learning methods, each suited for different kinds of data and objectives.\n",
    "\n",
    "We will be looking into few popular Machine Learning Algorithms such as Support Vector Machine(SVM), K-Nearest Neighbors and Random Forest Classifier. There are many other classical models with their own strengths and weaknesses, and the choice of model depends on the specific requirements of the task, including the nature of the data, the complexity of the problem, and the computational efficiency required. Despite the rise of deep learning, classical machine learning models remain vital tools in a data scientist's arsenal due to their efficiency, interpretability, and strong performance in many scenarios.\n",
    "\n",
    "The use of classic machine learning method is due to the small size of our dataset; Some of the most robust models such as Support vector (machine) classifiers **(SVC) and k-Nearest-Neighbour classifiers (kNN) are particularly suited to smaller datasets and fall apart with huge datasets.**\n"
   ]
  },
  {
   "cell_type": "markdown",
   "metadata": {
    "id": "jwU-jXSGL9hY"
   },
   "source": [
    "### Training: The 80/20 Split and Validation\n",
    "In order to compare models, we'll have to evaluate their performance. The simplest method to do so is to train a model on a portion of our dataset and test it on the remainder. We'll use sklearn's train_test_split to create a standard 80/20 train/test split. The model is fit on 80% of\n",
    "the data and tested for performance against 20% of the data, which it has never seen in training - also called the hold-out set.\n",
    " <img src=\"https://github.com/IAT-ExploringAI-2024/Week3-Machine_Learning/blob/main/images/Capture2.PNG?raw=true\" width=\"800\">\n",
    "\n",
    "More accurately, the proper modality for training and scoring a model is to\n",
    "1. Fit/train our model on a _training_ set,\n",
    "2. Evaluate the model on a _validation_ set to tune the hyperparameters for better performance,\n",
    "3. Finally score our model's true performance - its **generalizability** - against a _test_ set, aka the hold-out set.\n",
    "4. Repeat from 2. **Do not tune the model to score well on the test set**.\n",
    "\n",
    "Different set ratios are used in this approach - a usual example is 60/20/20 train/validation/test.For simplicity, we're going to start with an 80/20 train/test split. The model will be trained on all the training data, and we will check its performance on the test data.\n",
    "\n",
    " <img src=\"https://github.com/IAT-ExploringAI-2024/Week3-Machine_Learning/blob/main/images/traintestsplit.PNG?raw=true\" width=\"800\">\n",
    "\n",
    "Define unscaled and scaled training and test sets:"
   ]
  },
  {
   "cell_type": "code",
   "execution_count": 209,
   "metadata": {
    "id": "8jGN4ROVL9hY"
   },
   "outputs": [],
   "source": [
    "from sklearn.model_selection import train_test_split\n",
    "\n",
    "\n",
    "############# Unscaled test/train set #############\n",
    "X_train, X_test, y_train, y_test =train_test_split(\n",
    "    features,\n",
    "    emotions,\n",
    "    test_size=0.2,\n",
    "    random_state=69\n",
    ")\n",
    "\n",
    "############ Standard Scaled test/train set ###########\n",
    "# The labels/classes (y_train, y_test) never change, keep old values\n",
    "X_train_scaled, X_test_scaled, _, _ = train_test_split(\n",
    "    features_scaled,\n",
    "    emotions,\n",
    "    test_size=0.2,\n",
    "    random_state=69\n",
    ")\n",
    "\n",
    "############# MinMax Scaled test/train set ###############\n",
    "# The labels/classes (y_train, y_test) never change, keep old values\n",
    "X_train_minmax, X_test_minmax, _, _ = train_test_split(\n",
    "    features_minmax,\n",
    "    emotions,\n",
    "    test_size=0.2,\n",
    "    random_state=69\n",
    ")"
   ]
  },
  {
   "cell_type": "markdown",
   "metadata": {
    "id": "Q3Mh0RrEL9hY"
   },
   "source": [
    "### Comparing Models\n",
    "We'll try each off-the-shelf machine learning model from sklearn and pick a few to explore, since these models will train near instantly on this dataset."
   ]
  },
  {
   "cell_type": "code",
   "execution_count": 212,
   "metadata": {
    "colab": {
     "base_uri": "https://localhost:8080/",
     "height": 300
    },
    "id": "iLPeyR7vL9he",
    "outputId": "067b25d8-9f5e-4d9c-f35f-cefcda65090a"
   },
   "outputs": [
    {
     "data": {
      "text/html": [
       "<div>\n",
       "<style scoped>\n",
       "    .dataframe tbody tr th:only-of-type {\n",
       "        vertical-align: middle;\n",
       "    }\n",
       "\n",
       "    .dataframe tbody tr th {\n",
       "        vertical-align: top;\n",
       "    }\n",
       "\n",
       "    .dataframe thead th {\n",
       "        text-align: right;\n",
       "    }\n",
       "</style>\n",
       "<table border=\"1\" class=\"dataframe\">\n",
       "  <thead>\n",
       "    <tr style=\"text-align: right;\">\n",
       "      <th></th>\n",
       "      <th>Classifier</th>\n",
       "      <th>Accuracy Score</th>\n",
       "    </tr>\n",
       "  </thead>\n",
       "  <tbody>\n",
       "    <tr>\n",
       "      <th>10</th>\n",
       "      <td>RandomForestClassifier Tuned</td>\n",
       "      <td>88.18%</td>\n",
       "    </tr>\n",
       "    <tr>\n",
       "      <th>5</th>\n",
       "      <td>RandomForestClassifier</td>\n",
       "      <td>85.64%</td>\n",
       "    </tr>\n",
       "    <tr>\n",
       "      <th>3</th>\n",
       "      <td>SVC (C=10)</td>\n",
       "      <td>80.11%</td>\n",
       "    </tr>\n",
       "    <tr>\n",
       "      <th>9</th>\n",
       "      <td>KNeighborsClassifier Tuned</td>\n",
       "      <td>77.24%</td>\n",
       "    </tr>\n",
       "    <tr>\n",
       "      <th>1</th>\n",
       "      <td>SVC</td>\n",
       "      <td>76.80%</td>\n",
       "    </tr>\n",
       "    <tr>\n",
       "      <th>0</th>\n",
       "      <td>KNeighborsClassifier</td>\n",
       "      <td>75.69%</td>\n",
       "    </tr>\n",
       "    <tr>\n",
       "      <th>4</th>\n",
       "      <td>DecisionTreeClassifier</td>\n",
       "      <td>72.38%</td>\n",
       "    </tr>\n",
       "    <tr>\n",
       "      <th>8</th>\n",
       "      <td>QuadraticDiscriminantAnalysis</td>\n",
       "      <td>54.81%</td>\n",
       "    </tr>\n",
       "    <tr>\n",
       "      <th>6</th>\n",
       "      <td>AdaBoostClassifier</td>\n",
       "      <td>44.86%</td>\n",
       "    </tr>\n",
       "    <tr>\n",
       "      <th>7</th>\n",
       "      <td>GaussianNB</td>\n",
       "      <td>38.12%</td>\n",
       "    </tr>\n",
       "    <tr>\n",
       "      <th>2</th>\n",
       "      <td>SVC RBF kernel</td>\n",
       "      <td>29.39%</td>\n",
       "    </tr>\n",
       "  </tbody>\n",
       "</table>\n",
       "</div>"
      ],
      "text/plain": [
       "                       Classifier Accuracy Score\n",
       "10   RandomForestClassifier Tuned         88.18%\n",
       "5          RandomForestClassifier         85.64%\n",
       "3                      SVC (C=10)         80.11%\n",
       "9      KNeighborsClassifier Tuned         77.24%\n",
       "1                             SVC         76.80%\n",
       "0            KNeighborsClassifier         75.69%\n",
       "4          DecisionTreeClassifier         72.38%\n",
       "8   QuadraticDiscriminantAnalysis         54.81%\n",
       "6              AdaBoostClassifier         44.86%\n",
       "7                      GaussianNB         38.12%\n",
       "2                  SVC RBF kernel         29.39%"
      ]
     },
     "execution_count": 212,
     "metadata": {},
     "output_type": "execute_result"
    }
   ],
   "source": [
    "from sklearn.neighbors import KNeighborsClassifier\n",
    "from sklearn.svm import SVC\n",
    "from sklearn.tree import DecisionTreeClassifier\n",
    "from sklearn.ensemble import RandomForestClassifier, AdaBoostClassifier\n",
    "from sklearn.naive_bayes import GaussianNB\n",
    "from sklearn.discriminant_analysis import QuadraticDiscriminantAnalysis\n",
    "\n",
    "classification_models = [\n",
    "    KNeighborsClassifier(),#(3),\n",
    "    SVC(kernel='linear'),#, C=0.025),\n",
    "    SVC(kernel='rbf'),\n",
    "    SVC(\n",
    "    C=10,  #higher the value tighter the margin\n",
    "    gamma='auto',\n",
    "    kernel='rbf',\n",
    "    random_state=69\n",
    "    ),\n",
    "    DecisionTreeClassifier(),#max_depth=5),\n",
    "    RandomForestClassifier(),#max_depth=5, n_estimators=10, max_features=1),\n",
    "    AdaBoostClassifier(),\n",
    "    GaussianNB(),\n",
    "    QuadraticDiscriminantAnalysis(),\n",
    "    KNeighborsClassifier(\n",
    "    n_neighbors = 5,\n",
    "    weights = 'distance',\n",
    "    algorithm = 'brute',\n",
    "    n_jobs=4\n",
    "    ),\n",
    "    RandomForestClassifier(\n",
    "    n_estimators = 500,\n",
    "    criterion ='entropy',\n",
    "    warm_start = True,\n",
    "    max_features = 'sqrt',\n",
    "    oob_score = True, # more on this below\n",
    "    random_state=69\n",
    ")\n",
    "]\n",
    "\n",
    "scores = []\n",
    "for model in classification_models:\n",
    "    model.fit(X_train, y_train)\n",
    "    score = model.score(X_test, y_test)\n",
    "    model_name = type(model).__name__\n",
    "    if model_name=='SVC' and model.kernel=='rbf' and model.C==10: model_name+=' (C=10)'\n",
    "    if model_name=='SVC' and model.kernel=='rbf': model_name+=' RBF kernel'\n",
    "    if model_name=='KNeighborsClassifier' and model.algorithm=='brute': model_name+=' Tuned'\n",
    "    if model_name=='RandomForestClassifier' and model.criterion=='entropy': model_name+=' Tuned'\n",
    "    scores.append((model_name,(f'{100*score:.2f}%')))\n",
    "# Make it pretty\n",
    "scores_df = pd.DataFrame(scores,columns=['Classifier','Accuracy Score'])\n",
    "scores_df.sort_values(by='Accuracy Score',axis=0,ascending=False)"
   ]
  },
  {
   "cell_type": "markdown",
   "metadata": {},
   "source": [
    "### -------------- End of My Changes ------------- ###"
   ]
  },
  {
   "cell_type": "markdown",
   "metadata": {
    "id": "JrD98CpPL9he"
   },
   "source": [
    "Let's pick the top three - Random Forests, SVC, and kNN - and take a closer look at each of them."
   ]
  },
  {
   "cell_type": "markdown",
   "metadata": {
    "id": "4dBNoEolL9hf"
   },
   "source": [
    "### The Support Vector Machine Classifier\n",
    "\n",
    "We'll go in chronological order. First is the support vector machine classifier (SVC) - a model from the 60s. SVMs are models quick to train for this task and best suited to small datasets due to its quadratic time complexity w.r.t. size of the training dataset (# of training samples). This is also the reason it breaks down with larger datasets since it becomes very expensive to train.\n",
    "\n",
    "The idea behind SVMs on which the SVC model is based is to find a separating hyperplane - a subspace with dimension one less than that of the feature space - for points in our feature space; i.e. for a 3D space, a hyperplane is a regular plane, in 2D, a line. This idea extends to n dimensions. If points are separable by a hyperplane, they are said to be linearly separable. **Since there are infinite possible separating hyperplanes for any linearly separable feature space, an SVM computes which points are closest to each such hyperplane and uses them to construct a _support vector_. The SVM picks the hyperplane which maximizes the distance - _margin_ - to each support vector.** In this way, we maximize the separating ability of the chosen hyperplane.\n",
    "\n",
    "The core of SVMs is the kernel. We could map all new points from our input space, where they were not separable by a hyperplane, to a higher dimension in which we have found a hyperplane to separate the points in that space. However, that would be extremely computationally expensive for data that needs to be mapped to much higher dimensions. Instead, we **compute the hyperplane in the higher dimension on our training data and map the hyperplane back to the lower-dimension input space to use for classifying our data. This is the _kernel trick_, whereby the kernel (function) enables us to compute distances to new points in the input space without transforming each to the higher dimensional space - drastically reducing the computational complexity of the SVM.**\n",
    "\n",
    " <img src=\"https://github.com/IAT-ExploringAI-2024/Week3-Machine_Learning/blob/main/images/kernel1.png?raw=true\" width=\"800\">"
   ]
  },
  {
   "cell_type": "markdown",
   "metadata": {
    "id": "r-VTE6HjL9hf"
   },
   "source": [
    "A linear kernel should always be tested because **a linear kernel is much faster to train than a non-linear kernel**; however, properly tuned, a non-linear kernel often provides the best possible predictive performance. **RBF (radial basis function) is a good default to use for a non-linear kernel** and often is the best non-linear kernel because it usually provides a higher accuracy compared to other non-linear kernels at the cost of higher computational complexity. We can afford to try the RBF kernel because our dataset is small.\n",
    "\n",
    "If you want to explore further please have a look at [this article](https://www.analyticsvidhya.com/blog/2021/10/support-vector-machinessvm-a-complete-guide-for-beginners/)"
   ]
  },
  {
   "cell_type": "code",
   "execution_count": 30,
   "metadata": {
    "colab": {
     "base_uri": "https://localhost:8080/"
    },
    "id": "ruBbt50ML9hf",
    "outputId": "9f92107e-3784-4ff9-d143-651068f65b7e"
   },
   "outputs": [
    {
     "name": "stdout",
     "output_type": "stream",
     "text": [
      "SVC Model's accuracy on training set is 82.95%\n",
      "SVC Model's accuracy on test set is 61.80%\n"
     ]
    }
   ],
   "source": [
    "from sklearn.svm import SVC\n",
    "\n",
    "model = SVC(\n",
    "    C=10,  #higher the value tighter the margin\n",
    "    gamma='auto',\n",
    "    kernel='rbf',\n",
    "    random_state=69\n",
    ")\n",
    "\n",
    "model.fit(X_train_scaled, y_train)\n",
    "\n",
    "print(f'SVC Model\\'s accuracy on training set is {100*model.score(X_train_scaled, y_train):.2f}%')\n",
    "print(f'SVC Model\\'s accuracy on test set is {100*model.score(X_test_scaled, y_test):.2f}%')"
   ]
  },
  {
   "cell_type": "markdown",
   "metadata": {
    "id": "PIm1a-tiL9hg"
   },
   "source": [
    "Not bad at all for the relatively simple SVC model. **Hyperparameter 𝐶 regulates the margin.** It might do well to optimize the SVC model further if we don't find a better one. As it stands, we are looking for considerably higher performance in this task.\n",
    "\n",
    "Check out [this link](https://towardsdatascience.com/visualizing-the-effect-of-hyperparameters-on-support-vector-machines-b9eef6f7357b) for visual representation of affect of changes in C and gamma."
   ]
  },
  {
   "cell_type": "markdown",
   "metadata": {
    "id": "j72LJRfCL9hg"
   },
   "source": [
    "### k Nearest Neighbours\n",
    "\n",
    "k Nearest Neighbours (kNN) is next in line, a tried-and-true machine learning method from the 70s. kNN makes a lot of intuitive sense: imagine plotting points on a graph and drawing gates around points that look like they belong to the same group. That's what it is - we **plot our training samples' features and compare a test sample's features' distance to all those points; then just take the _k_ closest points to the test sample and pick the most frequent label/class.** That's it.\n",
    "\n",
    "kNN is a great starting point for multiclass problems with small datasets, although on large dadtasets less reliable and extremely memory hungry (it stores all training sample points). kNN is also useful in that it makes **no assumptions about the underlying distribution of the data set - so kNNs work well for both linear and non-linear data.** In the 2D example:\n",
    "\n",
    "<img src=\"https://github.com/IAT-ExploringAI-2024/Week3-Machine_Learning/blob/main/images/knn.png?raw=true\" width=400 height=400 />"
   ]
  },
  {
   "cell_type": "code",
   "execution_count": 35,
   "metadata": {
    "colab": {
     "base_uri": "https://localhost:8080/"
    },
    "id": "qaeCneMiL9hg",
    "outputId": "5c771b63-ba5d-4ef2-93be-eee445e3332d"
   },
   "outputs": [
    {
     "name": "stdout",
     "output_type": "stream",
     "text": [
      "Default kNN Model's accuracy on training set is 80.81%\n",
      "Default kNN Model's accuracy on test set is 61.59%\n",
      "\n",
      "kNN Model's accuracy on training set is 100.00%\n",
      "kNN Model's accuracy on test set is 64.30%\n"
     ]
    }
   ],
   "source": [
    "from sklearn.neighbors import KNeighborsClassifier\n",
    "\n",
    "####### Default kNN  ########\n",
    "model = KNeighborsClassifier(\n",
    ")\n",
    "\n",
    "model.fit(X_train_scaled, y_train)\n",
    "\n",
    "print(f'Default kNN Model\\'s accuracy on training set is {100*model.score(X_train_scaled, y_train):.2f}%')\n",
    "print(f'Default kNN Model\\'s accuracy on test set is {100*model.score(X_test_scaled, y_test):.2f}%\\n')\n",
    "\n",
    "##### (hastily) tuned kNN ######\n",
    "model = KNeighborsClassifier(\n",
    "    n_neighbors = 5,\n",
    "    weights = 'distance',\n",
    "    algorithm = 'brute',\n",
    "    n_jobs=4\n",
    ")\n",
    "\n",
    "model.fit(X_train_scaled, y_train)\n",
    "\n",
    "print(f'kNN Model\\'s accuracy on training set is {100*model.score(X_train_scaled, y_train):.2f}%')\n",
    "print(f'kNN Model\\'s accuracy on test set is {100*model.score(X_test_scaled, y_test):.2f}%')"
   ]
  },
  {
   "cell_type": "markdown",
   "metadata": {
    "id": "BxVEKUyiL9hh"
   },
   "source": [
    "**The brute-force algorithm computes distances between all pairs of points in the training set; works especially well for small datasets** but wildly inefficient w.r.t. increasing samples and feature space dimension. Not bad for 2 minutes of work, but still not suitable for this task."
   ]
  },
  {
   "cell_type": "markdown",
   "metadata": {
    "id": "zvQ3av4cL9hh"
   },
   "source": [
    "### Random Forests\n",
    "Finally, and before resorting to deep learning methods, let's try a Random Forest -  a model from the 21st century (2001). **We train many distinct decision trees which are essentially directed acyclic graphs (DAGs), somewhat similar to a flow chart. The collection of (decision) trees makes up our Random Forest.**\n",
    "\n",
    "At each node of the tree we have a function (a rule) that evaluates whether the features of samples input to that node belong to one class or another. Each branch of the tree (or, edge of the graph) defines one of two possible results from a node, and each leaf is one of two decisions made by its parent node. **Each tree in the forest evaluates a random subset of the training samples' features and has a rule at each level of the tree that classifies based on these random features - hence, _Random_ Forest. This random selection of features makes Random Forests robust to outliers**, as such features will have less of an impact in the scope of the entire forest, most of whose trees operate on the \"real\" features.\n",
    "\n",
    "**Random Forests are excellent models to use as a benchmark due to their low time complexity to train and because it is an ensemble method, their robustness to unknown distributions and outliers in the dataset,** meaning Random Forests require relatively little exploratory analysis in both the data and training the model to get an idea of their performance in a task.\n",
    "\n",
    "<img src=\"https://github.com/IliaZenkov/sklearn-audio-classification/blob/master/img/randomforest.png?raw=true\" width=500 height=500 />"
   ]
  },
  {
   "cell_type": "code",
   "execution_count": 36,
   "metadata": {
    "colab": {
     "base_uri": "https://localhost:8080/"
    },
    "id": "j9BWmcV9L9hh",
    "outputId": "95d3ddff-07d3-4bbf-d2c4-e14833871d77"
   },
   "outputs": [
    {
     "name": "stdout",
     "output_type": "stream",
     "text": [
      "Default Random Forest Model's accuracy on training set is 100.00%\n",
      "Default Random Forest Model's accuracy on test set is 60.13%\n",
      "\n",
      "Random Forest Model's accuracy on training set is 100.00%\n",
      "Random Forest Model's accuracy on test set is 63.88%\n"
     ]
    }
   ],
   "source": [
    "from sklearn.ensemble import RandomForestClassifier\n",
    "\n",
    "####### Default Random Forest ########\n",
    "model = RandomForestClassifier(\n",
    "    random_state=69\n",
    ")\n",
    "\n",
    "model.fit(X_train_scaled, y_train)\n",
    "\n",
    "print(f'Default Random Forest Model\\'s accuracy on training set is {100*model.score(X_train_scaled, y_train):.2f}%')\n",
    "print(f'Default Random Forest Model\\'s accuracy on test set is {100*model.score(X_test_scaled, y_test):.2f}%\\n')\n",
    "\n",
    "\n",
    "########## Tuned Random Forest #######\n",
    "model = RandomForestClassifier(\n",
    "    n_estimators = 500,\n",
    "    criterion ='entropy',\n",
    "    warm_start = True,\n",
    "    max_features = 'sqrt',\n",
    "    oob_score = True, # more on this below\n",
    "    random_state=69\n",
    ")\n",
    "\n",
    "model.fit(X_train_scaled, y_train)\n",
    "\n",
    "print(f'Random Forest Model\\'s accuracy on training set is {100*model.score(X_train_scaled, y_train):.2f}%')\n",
    "print(f'Random Forest Model\\'s accuracy on test set is {100*model.score(X_test_scaled, y_test):.2f}%')"
   ]
  },
  {
   "cell_type": "markdown",
   "metadata": {
    "id": "vM9-k8KLL9hi"
   },
   "source": [
    "Not bad for zero effort put into the default model. **Random Forests make a good benchmark model**, especially when strapped for time.\n",
    "\n",
    "**_Max features_ defines size of random feature subset decided upon at each node; sqrt(#features) is a good default for classification.**\n",
    "\n",
    "**_Gini_ and _Entropy_ are functions computing quality of classified samples within each node; they almost always provide similar performance but Entropy is more suited to classification while Gini is better for continuous variables.**\n"
   ]
  },
  {
   "cell_type": "markdown",
   "metadata": {
    "id": "DnhnxuGXL9hi"
   },
   "source": [
    "\n",
    "As wonderful as Random Forests are, it's clear that we're going to need to pull out bigger guns if we want to get appreciable performance on this dataset, perhaps even with good generalizability on test data. DNNs(Deep Neural Networks) are the next step-up in complexity from classical machine learning models, and we will start at the first rung on that ladder:Simple Perceptron in next lab!"
   ]
  }
 ],
 "metadata": {
  "colab": {
   "include_colab_link": true,
   "provenance": [],
   "toc_visible": true
  },
  "kernelspec": {
   "display_name": "Python 3 (ipykernel)",
   "language": "python",
   "name": "python3"
  },
  "language_info": {
   "codemirror_mode": {
    "name": "ipython",
    "version": 3
   },
   "file_extension": ".py",
   "mimetype": "text/x-python",
   "name": "python",
   "nbconvert_exporter": "python",
   "pygments_lexer": "ipython3",
   "version": "3.12.1"
  }
 },
 "nbformat": 4,
 "nbformat_minor": 4
}
