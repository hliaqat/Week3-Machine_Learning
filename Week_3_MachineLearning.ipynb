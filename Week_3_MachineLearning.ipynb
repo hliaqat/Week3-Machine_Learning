{
 "cells": [
  {
   "cell_type": "markdown",
   "metadata": {
    "colab_type": "text",
    "id": "view-in-github"
   },
   "source": [
    "<a href=\"https://colab.research.google.com/github/IAT-ExploringAI-2024/Week3-Machine_Learning/blob/main/Week_3_MachineLearning.ipynb\" target=\"_parent\"><img src=\"https://colab.research.google.com/assets/colab-badge.svg\" alt=\"Open In Colab\"/></a>"
   ]
  },
  {
   "cell_type": "code",
   "execution_count": null,
   "metadata": {
    "colab": {
     "base_uri": "https://localhost:8080/"
    },
    "id": "ywb8NifF9XN3",
    "outputId": "02574e3b-b411-4a94-d624-1abe3bcb3e45"
   },
   "outputs": [
    {
     "name": "stdout",
     "output_type": "stream",
     "text": [
      "Drive already mounted at /content/drive; to attempt to forcibly remount, call drive.mount(\"/content/drive\", force_remount=True).\n"
     ]
    }
   ],
   "source": [
    "from google.colab import drive\n",
    "drive.mount('/content/drive')"
   ]
  },
  {
   "cell_type": "markdown",
   "metadata": {
    "id": "q5CvOjjrL9gw"
   },
   "source": [
    "<center><h1> Introduction to Audio Classification with Machine Learning Models </h1></center>\n",
    "\n",
    "\n",
    "\n",
    "### Purpose\n",
    "This notebook serves as an introduction to working with audio data for classification problems; it is meant as a learning resource rather than a demonstration of the state-of-the-art. The techniques mentioned in this notebook apply not only to classification problems, but to regression problems and problems dealing with other types of input data as well. I provide an introduction to a few key machine learning models and the logic in choosing their hyperparameters. These objectives are framed by the task of recognizing emotion from snippets of speech audio.\n",
    "\n",
    " Training data should be used strictly for training a model, validation data strictly for tuning a model, and test data strictly to evaluate a model once it is tuned - a model should never be tuned to perform better on test data.\n",
    "\n",
    "\n",
    "\n",
    "\n",
    "\n",
    "Classic machine learning models such as Support Vector Machines (SVM), k Nearest Neighbours (kNN), and Random Forests have distinct advantages to deep neural networks in many tasks."
   ]
  },
  {
   "cell_type": "markdown",
   "metadata": {
    "id": "QQsTfGREL9g1"
   },
   "source": [
    "<!--TABLE OF CONTENTS-->\n",
    "\n",
    "\n",
    "# Table of Contents\n",
    "  - [Intro: Speech Emotion Recognition on the RAVDESS dataset](#Intro:-Speech-Emotion-Recognition-on-the-RAVDESS-dataset)\n",
    "  - [Machine Learning Process Overview](#Machine-Learning-Process-Overview)\n",
    "  - [Feature Extraction](#Feature-Extraction)\n",
    "    - [Load the Dataset and Compute Features](#Load-the-Dataset-and-Compute-Features)\n",
    "    - [Feature Scaling](#Feature-Scaling)\n",
    "  - [Classical Machine Learning Models](#Classical-Machine-Learning-Models)\n",
    "    - [Training: The 80/20 Split and Validation](#Training:-The-80/20-Split-and-Validation)\n",
    "    - [Comparing Models](#Comparing-Models)\n",
    "    - [The Support Vector Machine Classifier](#The-Support-Vector-Machine-Classifier)\n",
    "    - [k Nearest Neighbours](#k-Nearest-Neighbours)\n",
    "    - [Random Forests](#Random-Forests)\n",
    "\n"
   ]
  },
  {
   "cell_type": "markdown",
   "metadata": {
    "id": "hZUcbr4PL9g2",
    "pycharm": {
     "name": "#%% md\n"
    }
   },
   "source": [
    "## Intro: Speech Emotion Recognition on the RAVDESS dataset\n",
    "In this notebook we explore the most common machine learning models, specifically those available off the shelf in scikit-learn.\n",
    "\n",
    "I'm going to use the RAVDESS dataset (Ryerson Audio-Visual Database of Emotional Speech and Song dataset), created by Steven Livingstone and Frank Russo of Ryerson University. <br>\n",
    "[Details of the RAVDESS dataset](https://smartlaboratory.org/ravdess/) <br>\n",
    "[Download the dataset used in this notebook](https://zenodo.org/record/1188976) <br> Scroll half-way down the page and find \"Audio_Speech_Actors_01-24\"<br>\n",
    "\n",
    "We're going to use the audio-only speech portion of the RAVDESS dataset, ~200MB.\n",
    "Audio is sourced from 24 actors (12 male, 12 female) repeating two sentences with\n",
    "a variety of emotions and intensity. We get 1440 speech files (24 actors * 60 recordings per actor). Each audio sample has been rated  by a human 10 times for emotional quality.\n",
    "\n",
    "## Machine Learning Process Overview\n",
    "1. Feature Engineering: Choose and define the properties which our model will use to evaluate the audio files. <br>\n",
    "2. Feature Extraction: Compute the features for each audio file and build a feature matrix representing all audio files. <br>\n",
    "3. Model exploration: Test candidate models that make sense for the properies of the dataset\n",
    "4. Training the MLP Classifier model: Choose and optimize the properties of our model on validation data - hyperparameters and architechture.  <br>\n",
    "5. Evaluate our model's performance: Evaluate our model's accuracy on validation data and score it against test data which it has never seen in training.<br>\n",
    "6. Explore options for improving our model: Is our dataset the right size? Is our model too complex or too simple? <br>\n"
   ]
  },
  {
   "cell_type": "code",
   "execution_count": 235,
   "metadata": {
    "id": "b2IL0uT19_3A"
   },
   "outputs": [],
   "source": [
    "#importing the required libraries\n",
    "\n",
    "import matplotlib.pyplot as plt\n",
    "import pandas as pd\n",
    "import numpy as np\n",
    "import librosa.display\n",
    "import soundfile\n",
    "import os\n",
    "# matplotlib complains about the behaviour of librosa.display, so we'll ignore those warnings:\n",
    "import warnings; warnings.filterwarnings('ignore')"
   ]
  },
  {
   "cell_type": "markdown",
   "metadata": {
    "id": "3Cf8q4K5L9hG",
    "pycharm": {
     "name": "#%% md\n"
    }
   },
   "source": [
    "Compute the feature matrix and read the emotion labels for the entire dataset.\n",
    "Note that our regressor (independent/explanatory variable), usually denoted X, is named 'features', and our regressand (dependent variable), usually denoted y, is named 'emotions'."
   ]
  },
  {
   "cell_type": "code",
   "execution_count": 236,
   "metadata": {
    "colab": {
     "base_uri": "https://localhost:8080/"
    },
    "id": "XeKE591aL9hG",
    "outputId": "ae181c7d-c0bb-4263-84fc-cf79f71e8169",
    "pycharm": {
     "name": "#%%\n"
    }
   },
   "outputs": [],
   "source": [
    "# I stored emotions and features (before scaling) to npy arrays\n",
    "features = np.load('features/features_unbalanced_unpadded.npy', allow_pickle=True)\n",
    "emotions = np.load('features/emotions_unbalanced_unpadded.npy', allow_pickle=True)"
   ]
  },
  {
   "cell_type": "markdown",
   "metadata": {
    "id": "RVUa7RAuL9hG",
    "pycharm": {
     "name": "#%% md\n"
    }
   },
   "source": [
    "Let's see what the features we extracted look like, **also for saving both the features matrix as well as emotions array, we need to convert them to pandas dataframe.**"
   ]
  },
  {
   "cell_type": "code",
   "execution_count": 237,
   "metadata": {
    "colab": {
     "base_uri": "https://localhost:8080/",
     "height": 495
    },
    "id": "mzxX583yL9hG",
    "outputId": "41ddf378-80f2-4b00-8cdc-6a29836f651d",
    "pycharm": {
     "name": "#%%\n"
    }
   },
   "outputs": [
    {
     "name": "stdout",
     "output_type": "stream",
     "text": [
      "\n",
      "Audio samples represented: 4715\n",
      "Numerical features extracted per sample: 180\n"
     ]
    },
    {
     "data": {
      "text/html": [
       "<div>\n",
       "<style scoped>\n",
       "    .dataframe tbody tr th:only-of-type {\n",
       "        vertical-align: middle;\n",
       "    }\n",
       "\n",
       "    .dataframe tbody tr th {\n",
       "        vertical-align: top;\n",
       "    }\n",
       "\n",
       "    .dataframe thead th {\n",
       "        text-align: right;\n",
       "    }\n",
       "</style>\n",
       "<table border=\"1\" class=\"dataframe\">\n",
       "  <thead>\n",
       "    <tr style=\"text-align: right;\">\n",
       "      <th></th>\n",
       "      <th>0</th>\n",
       "      <th>1</th>\n",
       "      <th>2</th>\n",
       "      <th>3</th>\n",
       "      <th>4</th>\n",
       "      <th>5</th>\n",
       "      <th>6</th>\n",
       "      <th>7</th>\n",
       "      <th>8</th>\n",
       "      <th>9</th>\n",
       "      <th>...</th>\n",
       "      <th>170</th>\n",
       "      <th>171</th>\n",
       "      <th>172</th>\n",
       "      <th>173</th>\n",
       "      <th>174</th>\n",
       "      <th>175</th>\n",
       "      <th>176</th>\n",
       "      <th>177</th>\n",
       "      <th>178</th>\n",
       "      <th>179</th>\n",
       "    </tr>\n",
       "  </thead>\n",
       "  <tbody>\n",
       "    <tr>\n",
       "      <th>0</th>\n",
       "      <td>0.615580</td>\n",
       "      <td>0.563949</td>\n",
       "      <td>0.549692</td>\n",
       "      <td>0.581877</td>\n",
       "      <td>0.655620</td>\n",
       "      <td>0.662756</td>\n",
       "      <td>0.632306</td>\n",
       "      <td>0.625282</td>\n",
       "      <td>0.661253</td>\n",
       "      <td>0.645660</td>\n",
       "      <td>...</td>\n",
       "      <td>1.043493</td>\n",
       "      <td>1.139894</td>\n",
       "      <td>0.358631</td>\n",
       "      <td>0.599615</td>\n",
       "      <td>0.318476</td>\n",
       "      <td>-0.203785</td>\n",
       "      <td>1.645893</td>\n",
       "      <td>3.093149</td>\n",
       "      <td>2.120080</td>\n",
       "      <td>0.520745</td>\n",
       "    </tr>\n",
       "    <tr>\n",
       "      <th>1</th>\n",
       "      <td>0.679746</td>\n",
       "      <td>0.635813</td>\n",
       "      <td>0.591451</td>\n",
       "      <td>0.607200</td>\n",
       "      <td>0.631385</td>\n",
       "      <td>0.641622</td>\n",
       "      <td>0.639708</td>\n",
       "      <td>0.651372</td>\n",
       "      <td>0.683633</td>\n",
       "      <td>0.734292</td>\n",
       "      <td>...</td>\n",
       "      <td>1.540109</td>\n",
       "      <td>1.570881</td>\n",
       "      <td>1.943887</td>\n",
       "      <td>1.774535</td>\n",
       "      <td>1.433108</td>\n",
       "      <td>1.523536</td>\n",
       "      <td>1.792784</td>\n",
       "      <td>2.923024</td>\n",
       "      <td>3.145004</td>\n",
       "      <td>1.452776</td>\n",
       "    </tr>\n",
       "    <tr>\n",
       "      <th>2</th>\n",
       "      <td>0.702837</td>\n",
       "      <td>0.708426</td>\n",
       "      <td>0.684022</td>\n",
       "      <td>0.648639</td>\n",
       "      <td>0.652478</td>\n",
       "      <td>0.643013</td>\n",
       "      <td>0.580393</td>\n",
       "      <td>0.565113</td>\n",
       "      <td>0.552285</td>\n",
       "      <td>0.622054</td>\n",
       "      <td>...</td>\n",
       "      <td>0.341424</td>\n",
       "      <td>0.846096</td>\n",
       "      <td>2.885672</td>\n",
       "      <td>1.135524</td>\n",
       "      <td>0.045581</td>\n",
       "      <td>1.027317</td>\n",
       "      <td>1.138043</td>\n",
       "      <td>1.462052</td>\n",
       "      <td>1.462685</td>\n",
       "      <td>1.484937</td>\n",
       "    </tr>\n",
       "    <tr>\n",
       "      <th>3</th>\n",
       "      <td>0.610602</td>\n",
       "      <td>0.561682</td>\n",
       "      <td>0.520230</td>\n",
       "      <td>0.532284</td>\n",
       "      <td>0.552935</td>\n",
       "      <td>0.583363</td>\n",
       "      <td>0.601917</td>\n",
       "      <td>0.633930</td>\n",
       "      <td>0.675511</td>\n",
       "      <td>0.684216</td>\n",
       "      <td>...</td>\n",
       "      <td>-0.524789</td>\n",
       "      <td>1.755825</td>\n",
       "      <td>5.293945</td>\n",
       "      <td>3.697515</td>\n",
       "      <td>2.265866</td>\n",
       "      <td>4.535465</td>\n",
       "      <td>5.906408</td>\n",
       "      <td>6.214412</td>\n",
       "      <td>7.220405</td>\n",
       "      <td>6.763476</td>\n",
       "    </tr>\n",
       "    <tr>\n",
       "      <th>4</th>\n",
       "      <td>0.702973</td>\n",
       "      <td>0.656843</td>\n",
       "      <td>0.635179</td>\n",
       "      <td>0.628033</td>\n",
       "      <td>0.663388</td>\n",
       "      <td>0.662392</td>\n",
       "      <td>0.581200</td>\n",
       "      <td>0.563470</td>\n",
       "      <td>0.576572</td>\n",
       "      <td>0.634710</td>\n",
       "      <td>...</td>\n",
       "      <td>-0.144909</td>\n",
       "      <td>1.303543</td>\n",
       "      <td>2.747535</td>\n",
       "      <td>1.222743</td>\n",
       "      <td>0.037704</td>\n",
       "      <td>0.525343</td>\n",
       "      <td>1.525196</td>\n",
       "      <td>2.005650</td>\n",
       "      <td>1.281762</td>\n",
       "      <td>1.138556</td>\n",
       "    </tr>\n",
       "    <tr>\n",
       "      <th>...</th>\n",
       "      <td>...</td>\n",
       "      <td>...</td>\n",
       "      <td>...</td>\n",
       "      <td>...</td>\n",
       "      <td>...</td>\n",
       "      <td>...</td>\n",
       "      <td>...</td>\n",
       "      <td>...</td>\n",
       "      <td>...</td>\n",
       "      <td>...</td>\n",
       "      <td>...</td>\n",
       "      <td>...</td>\n",
       "      <td>...</td>\n",
       "      <td>...</td>\n",
       "      <td>...</td>\n",
       "      <td>...</td>\n",
       "      <td>...</td>\n",
       "      <td>...</td>\n",
       "      <td>...</td>\n",
       "      <td>...</td>\n",
       "      <td>...</td>\n",
       "    </tr>\n",
       "    <tr>\n",
       "      <th>4710</th>\n",
       "      <td>0.664177</td>\n",
       "      <td>0.633587</td>\n",
       "      <td>0.590743</td>\n",
       "      <td>0.601933</td>\n",
       "      <td>0.623831</td>\n",
       "      <td>0.643299</td>\n",
       "      <td>0.671203</td>\n",
       "      <td>0.668196</td>\n",
       "      <td>0.683204</td>\n",
       "      <td>0.658824</td>\n",
       "      <td>...</td>\n",
       "      <td>5.234397</td>\n",
       "      <td>5.000974</td>\n",
       "      <td>4.120270</td>\n",
       "      <td>3.053776</td>\n",
       "      <td>2.119890</td>\n",
       "      <td>2.965642</td>\n",
       "      <td>2.442994</td>\n",
       "      <td>2.014850</td>\n",
       "      <td>3.167833</td>\n",
       "      <td>4.008449</td>\n",
       "    </tr>\n",
       "    <tr>\n",
       "      <th>4711</th>\n",
       "      <td>0.697806</td>\n",
       "      <td>0.658317</td>\n",
       "      <td>0.614802</td>\n",
       "      <td>0.639169</td>\n",
       "      <td>0.717383</td>\n",
       "      <td>0.743908</td>\n",
       "      <td>0.781170</td>\n",
       "      <td>0.749796</td>\n",
       "      <td>0.722322</td>\n",
       "      <td>0.715267</td>\n",
       "      <td>...</td>\n",
       "      <td>-1.211285</td>\n",
       "      <td>0.060299</td>\n",
       "      <td>-1.140080</td>\n",
       "      <td>0.446977</td>\n",
       "      <td>0.614657</td>\n",
       "      <td>0.430341</td>\n",
       "      <td>0.332445</td>\n",
       "      <td>-0.197219</td>\n",
       "      <td>0.797524</td>\n",
       "      <td>2.606972</td>\n",
       "    </tr>\n",
       "    <tr>\n",
       "      <th>4712</th>\n",
       "      <td>0.628023</td>\n",
       "      <td>0.596604</td>\n",
       "      <td>0.643935</td>\n",
       "      <td>0.655228</td>\n",
       "      <td>0.659819</td>\n",
       "      <td>0.725635</td>\n",
       "      <td>0.808151</td>\n",
       "      <td>0.814369</td>\n",
       "      <td>0.771093</td>\n",
       "      <td>0.722508</td>\n",
       "      <td>...</td>\n",
       "      <td>-1.125915</td>\n",
       "      <td>0.213711</td>\n",
       "      <td>-1.729091</td>\n",
       "      <td>0.776150</td>\n",
       "      <td>0.564957</td>\n",
       "      <td>2.507703</td>\n",
       "      <td>0.997836</td>\n",
       "      <td>0.844502</td>\n",
       "      <td>-0.108339</td>\n",
       "      <td>2.037053</td>\n",
       "    </tr>\n",
       "    <tr>\n",
       "      <th>4713</th>\n",
       "      <td>0.630163</td>\n",
       "      <td>0.652205</td>\n",
       "      <td>0.637307</td>\n",
       "      <td>0.684746</td>\n",
       "      <td>0.764458</td>\n",
       "      <td>0.795282</td>\n",
       "      <td>0.819000</td>\n",
       "      <td>0.802949</td>\n",
       "      <td>0.774911</td>\n",
       "      <td>0.734925</td>\n",
       "      <td>...</td>\n",
       "      <td>-2.221260</td>\n",
       "      <td>-0.709731</td>\n",
       "      <td>-1.652230</td>\n",
       "      <td>-1.931097</td>\n",
       "      <td>-1.620286</td>\n",
       "      <td>1.130693</td>\n",
       "      <td>0.274002</td>\n",
       "      <td>2.252403</td>\n",
       "      <td>2.537369</td>\n",
       "      <td>3.869971</td>\n",
       "    </tr>\n",
       "    <tr>\n",
       "      <th>4714</th>\n",
       "      <td>0.619704</td>\n",
       "      <td>0.639446</td>\n",
       "      <td>0.650099</td>\n",
       "      <td>0.693850</td>\n",
       "      <td>0.721269</td>\n",
       "      <td>0.756798</td>\n",
       "      <td>0.789992</td>\n",
       "      <td>0.768492</td>\n",
       "      <td>0.766670</td>\n",
       "      <td>0.698196</td>\n",
       "      <td>...</td>\n",
       "      <td>-1.135965</td>\n",
       "      <td>-0.554937</td>\n",
       "      <td>-1.294901</td>\n",
       "      <td>-0.990537</td>\n",
       "      <td>-0.618531</td>\n",
       "      <td>0.289875</td>\n",
       "      <td>-0.120279</td>\n",
       "      <td>0.519724</td>\n",
       "      <td>1.181626</td>\n",
       "      <td>2.576108</td>\n",
       "    </tr>\n",
       "  </tbody>\n",
       "</table>\n",
       "<p>4715 rows × 180 columns</p>\n",
       "</div>"
      ],
      "text/plain": [
       "           0         1         2         3         4         5         6    \\\n",
       "0     0.615580  0.563949  0.549692  0.581877  0.655620  0.662756  0.632306   \n",
       "1     0.679746  0.635813  0.591451  0.607200  0.631385  0.641622  0.639708   \n",
       "2     0.702837  0.708426  0.684022  0.648639  0.652478  0.643013  0.580393   \n",
       "3     0.610602  0.561682  0.520230  0.532284  0.552935  0.583363  0.601917   \n",
       "4     0.702973  0.656843  0.635179  0.628033  0.663388  0.662392  0.581200   \n",
       "...        ...       ...       ...       ...       ...       ...       ...   \n",
       "4710  0.664177  0.633587  0.590743  0.601933  0.623831  0.643299  0.671203   \n",
       "4711  0.697806  0.658317  0.614802  0.639169  0.717383  0.743908  0.781170   \n",
       "4712  0.628023  0.596604  0.643935  0.655228  0.659819  0.725635  0.808151   \n",
       "4713  0.630163  0.652205  0.637307  0.684746  0.764458  0.795282  0.819000   \n",
       "4714  0.619704  0.639446  0.650099  0.693850  0.721269  0.756798  0.789992   \n",
       "\n",
       "           7         8         9    ...       170       171       172  \\\n",
       "0     0.625282  0.661253  0.645660  ...  1.043493  1.139894  0.358631   \n",
       "1     0.651372  0.683633  0.734292  ...  1.540109  1.570881  1.943887   \n",
       "2     0.565113  0.552285  0.622054  ...  0.341424  0.846096  2.885672   \n",
       "3     0.633930  0.675511  0.684216  ... -0.524789  1.755825  5.293945   \n",
       "4     0.563470  0.576572  0.634710  ... -0.144909  1.303543  2.747535   \n",
       "...        ...       ...       ...  ...       ...       ...       ...   \n",
       "4710  0.668196  0.683204  0.658824  ...  5.234397  5.000974  4.120270   \n",
       "4711  0.749796  0.722322  0.715267  ... -1.211285  0.060299 -1.140080   \n",
       "4712  0.814369  0.771093  0.722508  ... -1.125915  0.213711 -1.729091   \n",
       "4713  0.802949  0.774911  0.734925  ... -2.221260 -0.709731 -1.652230   \n",
       "4714  0.768492  0.766670  0.698196  ... -1.135965 -0.554937 -1.294901   \n",
       "\n",
       "           173       174       175       176       177       178       179  \n",
       "0     0.599615  0.318476 -0.203785  1.645893  3.093149  2.120080  0.520745  \n",
       "1     1.774535  1.433108  1.523536  1.792784  2.923024  3.145004  1.452776  \n",
       "2     1.135524  0.045581  1.027317  1.138043  1.462052  1.462685  1.484937  \n",
       "3     3.697515  2.265866  4.535465  5.906408  6.214412  7.220405  6.763476  \n",
       "4     1.222743  0.037704  0.525343  1.525196  2.005650  1.281762  1.138556  \n",
       "...        ...       ...       ...       ...       ...       ...       ...  \n",
       "4710  3.053776  2.119890  2.965642  2.442994  2.014850  3.167833  4.008449  \n",
       "4711  0.446977  0.614657  0.430341  0.332445 -0.197219  0.797524  2.606972  \n",
       "4712  0.776150  0.564957  2.507703  0.997836  0.844502 -0.108339  2.037053  \n",
       "4713 -1.931097 -1.620286  1.130693  0.274002  2.252403  2.537369  3.869971  \n",
       "4714 -0.990537 -0.618531  0.289875 -0.120279  0.519724  1.181626  2.576108  \n",
       "\n",
       "[4715 rows x 180 columns]"
      ]
     },
     "execution_count": 237,
     "metadata": {},
     "output_type": "execute_result"
    }
   ],
   "source": [
    "print(f'\\nAudio samples represented: {features.shape[0]}')\n",
    "print(f'Numerical features extracted per sample: {features.shape[1]}')\n",
    "features_df = pd.DataFrame(features) # make it pretty for display\n",
    "\n",
    "\n",
    "#making dataframe for emotions as well\n",
    "emotions_df = pd.DataFrame(emotions) # make it pretty for display\n",
    "\n",
    "features_df"
   ]
  },
  {
   "cell_type": "markdown",
   "metadata": {
    "id": "Tq083zLEL9hH",
    "pycharm": {
     "name": "#%% md\n"
    }
   },
   "source": [
    "We have a matrix of dim 1435 x 180. Looks good - 1435 audio samples, one per row, with a series of\n",
    "180 numerical features for each sample.\n",
    "\n",
    "**Each of the 1435 feature arrays has 180 features composed of 12 chromagram pitch classes + 128 mel spectrogram bands + 40 MFC coefficients.**"
   ]
  },
  {
   "cell_type": "markdown",
   "metadata": {
    "id": "VpE5m-5aEyoB"
   },
   "source": [
    "## Load pre-saved Dataset"
   ]
  },
  {
   "cell_type": "code",
   "execution_count": 238,
   "metadata": {
    "id": "-8nlJCESEn56"
   },
   "outputs": [],
   "source": [
    "\n",
    "features = features_df.copy()\n",
    "emotions = emotions_df.copy()"
   ]
  },
  {
   "cell_type": "markdown",
   "metadata": {
    "id": "4x2dXjybD1NM"
   },
   "source": [
    "let's see if they have been loaded correctly!"
   ]
  },
  {
   "cell_type": "code",
   "execution_count": 239,
   "metadata": {
    "colab": {
     "base_uri": "https://localhost:8080/",
     "height": 255
    },
    "id": "B5Xo1SVMD0qR",
    "outputId": "98300373-d0fd-4da6-eee2-60668cbc10a9"
   },
   "outputs": [
    {
     "data": {
      "text/html": [
       "<div>\n",
       "<style scoped>\n",
       "    .dataframe tbody tr th:only-of-type {\n",
       "        vertical-align: middle;\n",
       "    }\n",
       "\n",
       "    .dataframe tbody tr th {\n",
       "        vertical-align: top;\n",
       "    }\n",
       "\n",
       "    .dataframe thead th {\n",
       "        text-align: right;\n",
       "    }\n",
       "</style>\n",
       "<table border=\"1\" class=\"dataframe\">\n",
       "  <thead>\n",
       "    <tr style=\"text-align: right;\">\n",
       "      <th></th>\n",
       "      <th>0</th>\n",
       "      <th>1</th>\n",
       "      <th>2</th>\n",
       "      <th>3</th>\n",
       "      <th>4</th>\n",
       "      <th>5</th>\n",
       "      <th>6</th>\n",
       "      <th>7</th>\n",
       "      <th>8</th>\n",
       "      <th>9</th>\n",
       "      <th>...</th>\n",
       "      <th>170</th>\n",
       "      <th>171</th>\n",
       "      <th>172</th>\n",
       "      <th>173</th>\n",
       "      <th>174</th>\n",
       "      <th>175</th>\n",
       "      <th>176</th>\n",
       "      <th>177</th>\n",
       "      <th>178</th>\n",
       "      <th>179</th>\n",
       "    </tr>\n",
       "  </thead>\n",
       "  <tbody>\n",
       "    <tr>\n",
       "      <th>0</th>\n",
       "      <td>0.615580</td>\n",
       "      <td>0.563949</td>\n",
       "      <td>0.549692</td>\n",
       "      <td>0.581877</td>\n",
       "      <td>0.655620</td>\n",
       "      <td>0.662756</td>\n",
       "      <td>0.632306</td>\n",
       "      <td>0.625282</td>\n",
       "      <td>0.661253</td>\n",
       "      <td>0.645660</td>\n",
       "      <td>...</td>\n",
       "      <td>1.043493</td>\n",
       "      <td>1.139894</td>\n",
       "      <td>0.358631</td>\n",
       "      <td>0.599615</td>\n",
       "      <td>0.318476</td>\n",
       "      <td>-0.203785</td>\n",
       "      <td>1.645893</td>\n",
       "      <td>3.093149</td>\n",
       "      <td>2.120080</td>\n",
       "      <td>0.520745</td>\n",
       "    </tr>\n",
       "    <tr>\n",
       "      <th>1</th>\n",
       "      <td>0.679746</td>\n",
       "      <td>0.635813</td>\n",
       "      <td>0.591451</td>\n",
       "      <td>0.607200</td>\n",
       "      <td>0.631385</td>\n",
       "      <td>0.641622</td>\n",
       "      <td>0.639708</td>\n",
       "      <td>0.651372</td>\n",
       "      <td>0.683633</td>\n",
       "      <td>0.734292</td>\n",
       "      <td>...</td>\n",
       "      <td>1.540109</td>\n",
       "      <td>1.570881</td>\n",
       "      <td>1.943887</td>\n",
       "      <td>1.774535</td>\n",
       "      <td>1.433108</td>\n",
       "      <td>1.523536</td>\n",
       "      <td>1.792784</td>\n",
       "      <td>2.923024</td>\n",
       "      <td>3.145004</td>\n",
       "      <td>1.452776</td>\n",
       "    </tr>\n",
       "    <tr>\n",
       "      <th>2</th>\n",
       "      <td>0.702837</td>\n",
       "      <td>0.708426</td>\n",
       "      <td>0.684022</td>\n",
       "      <td>0.648639</td>\n",
       "      <td>0.652478</td>\n",
       "      <td>0.643013</td>\n",
       "      <td>0.580393</td>\n",
       "      <td>0.565113</td>\n",
       "      <td>0.552285</td>\n",
       "      <td>0.622054</td>\n",
       "      <td>...</td>\n",
       "      <td>0.341424</td>\n",
       "      <td>0.846096</td>\n",
       "      <td>2.885672</td>\n",
       "      <td>1.135524</td>\n",
       "      <td>0.045581</td>\n",
       "      <td>1.027317</td>\n",
       "      <td>1.138043</td>\n",
       "      <td>1.462052</td>\n",
       "      <td>1.462685</td>\n",
       "      <td>1.484937</td>\n",
       "    </tr>\n",
       "    <tr>\n",
       "      <th>3</th>\n",
       "      <td>0.610602</td>\n",
       "      <td>0.561682</td>\n",
       "      <td>0.520230</td>\n",
       "      <td>0.532284</td>\n",
       "      <td>0.552935</td>\n",
       "      <td>0.583363</td>\n",
       "      <td>0.601917</td>\n",
       "      <td>0.633930</td>\n",
       "      <td>0.675511</td>\n",
       "      <td>0.684216</td>\n",
       "      <td>...</td>\n",
       "      <td>-0.524789</td>\n",
       "      <td>1.755825</td>\n",
       "      <td>5.293945</td>\n",
       "      <td>3.697515</td>\n",
       "      <td>2.265866</td>\n",
       "      <td>4.535465</td>\n",
       "      <td>5.906408</td>\n",
       "      <td>6.214412</td>\n",
       "      <td>7.220405</td>\n",
       "      <td>6.763476</td>\n",
       "    </tr>\n",
       "    <tr>\n",
       "      <th>4</th>\n",
       "      <td>0.702973</td>\n",
       "      <td>0.656843</td>\n",
       "      <td>0.635179</td>\n",
       "      <td>0.628033</td>\n",
       "      <td>0.663388</td>\n",
       "      <td>0.662392</td>\n",
       "      <td>0.581200</td>\n",
       "      <td>0.563470</td>\n",
       "      <td>0.576572</td>\n",
       "      <td>0.634710</td>\n",
       "      <td>...</td>\n",
       "      <td>-0.144909</td>\n",
       "      <td>1.303543</td>\n",
       "      <td>2.747535</td>\n",
       "      <td>1.222743</td>\n",
       "      <td>0.037704</td>\n",
       "      <td>0.525343</td>\n",
       "      <td>1.525196</td>\n",
       "      <td>2.005650</td>\n",
       "      <td>1.281762</td>\n",
       "      <td>1.138556</td>\n",
       "    </tr>\n",
       "  </tbody>\n",
       "</table>\n",
       "<p>5 rows × 180 columns</p>\n",
       "</div>"
      ],
      "text/plain": [
       "        0         1         2         3         4         5         6    \\\n",
       "0  0.615580  0.563949  0.549692  0.581877  0.655620  0.662756  0.632306   \n",
       "1  0.679746  0.635813  0.591451  0.607200  0.631385  0.641622  0.639708   \n",
       "2  0.702837  0.708426  0.684022  0.648639  0.652478  0.643013  0.580393   \n",
       "3  0.610602  0.561682  0.520230  0.532284  0.552935  0.583363  0.601917   \n",
       "4  0.702973  0.656843  0.635179  0.628033  0.663388  0.662392  0.581200   \n",
       "\n",
       "        7         8         9    ...       170       171       172       173  \\\n",
       "0  0.625282  0.661253  0.645660  ...  1.043493  1.139894  0.358631  0.599615   \n",
       "1  0.651372  0.683633  0.734292  ...  1.540109  1.570881  1.943887  1.774535   \n",
       "2  0.565113  0.552285  0.622054  ...  0.341424  0.846096  2.885672  1.135524   \n",
       "3  0.633930  0.675511  0.684216  ... -0.524789  1.755825  5.293945  3.697515   \n",
       "4  0.563470  0.576572  0.634710  ... -0.144909  1.303543  2.747535  1.222743   \n",
       "\n",
       "        174       175       176       177       178       179  \n",
       "0  0.318476 -0.203785  1.645893  3.093149  2.120080  0.520745  \n",
       "1  1.433108  1.523536  1.792784  2.923024  3.145004  1.452776  \n",
       "2  0.045581  1.027317  1.138043  1.462052  1.462685  1.484937  \n",
       "3  2.265866  4.535465  5.906408  6.214412  7.220405  6.763476  \n",
       "4  0.037704  0.525343  1.525196  2.005650  1.281762  1.138556  \n",
       "\n",
       "[5 rows x 180 columns]"
      ]
     },
     "execution_count": 239,
     "metadata": {},
     "output_type": "execute_result"
    }
   ],
   "source": [
    "features.head()"
   ]
  },
  {
   "cell_type": "code",
   "execution_count": 240,
   "metadata": {},
   "outputs": [],
   "source": [
    "# Code from: https://stackoverflow.com/questions/58808523/how-do-i-remove-a-value-from-a-list-and-remove-a-value-in-the-same-position-fro\n",
    "def remove_calm(features_, emotions_):\n",
    "    todrop = []\n",
    "    for i in reversed(range(len(emotions_))):\n",
    "        if emotions_[0][i] == 'calm':\n",
    "            todrop.append(i)\n",
    "    print(todrop)\n",
    "    print(len(todrop))\n",
    "    emotions_ = emotions_.drop(todrop,axis='index')\n",
    "    features_ = features_.drop(todrop,axis='index')\n",
    "    return features_, emotions_"
   ]
  },
  {
   "cell_type": "code",
   "execution_count": 241,
   "metadata": {},
   "outputs": [],
   "source": [
    "# features, emotions = remove_calm(features, emotions)"
   ]
  },
  {
   "cell_type": "markdown",
   "metadata": {
    "id": "esInVDq7L9hT"
   },
   "source": [
    "Let's see the class balance of our dataset:"
   ]
  },
  {
   "cell_type": "code",
   "execution_count": 242,
   "metadata": {
    "colab": {
     "base_uri": "https://localhost:8080/",
     "height": 399
    },
    "id": "Si3OFQe7L9hU",
    "outputId": "6d693311-c9fc-42e6-a904-3f05dee87b75"
   },
   "outputs": [
    {
     "data": {
      "image/png": "[encoded data removed]",
      "text/plain": [
       "<Figure size 3500x400 with 1 Axes>"
      ]
     },
     "metadata": {},
     "output_type": "display_data"
    }
   ],
   "source": [
    "# plot emotions\n",
    "plt.figure(figsize=(35,4))\n",
    "plt.subplot(1,3,1)\n",
    "#np.unique returns ordered list of unique elements and count of each element\n",
    "emotion_list, count = np.unique(emotions, return_counts=True)\n",
    "plt.bar(x=range(8), height=count)\n",
    "plt.xticks(ticks=range(8), labels = [emotion for emotion in emotion_list],fontsize=10)\n",
    "plt.xlabel('Emotion')\n",
    "plt.tick_params(labelsize=16)\n",
    "plt.ylabel('Number of Samples')\n",
    "plt.show()"
   ]
  },
  {
   "cell_type": "markdown",
   "metadata": {
    "id": "Mw_wKC8WL9hV"
   },
   "source": [
    "**Great, the classes appear to be balanced. That makes the task easier.** All emotions _except_ the neutral class have a \"strong\" intensity so there are half as many neutral samples. That might have an impact."
   ]
  },
  {
   "cell_type": "markdown",
   "metadata": {
    "id": "WhtlYshOL9hV"
   },
   "source": [
    "### Feature Scaling\n",
    "To properly train most machine learning models on _most_ datasets, we first need to scale our features. **This is crucial for models which compute distances between data, and especially critical for DNNs**: If there is a difference in the variance of features simply because of their possible range of values, then a model will learn that the features with the greatest variance are the most important. However, **differences in the variance of unscaled features belonging to different and unknown distributions is an inappropriate measure of importance.** Let's check our features' properties:"
   ]
  },
  {
   "cell_type": "code",
   "execution_count": 243,
   "metadata": {
    "colab": {
     "base_uri": "https://localhost:8080/"
    },
    "id": "_IUm1DLwL9hW",
    "outputId": "e4579adb-159a-4a4f-a1f4-2d49dd528fae"
   },
   "outputs": [
    {
     "name": "stdout",
     "output_type": "stream",
     "text": [
      "12 Chromagram features:           min = 0.154,     max = 0.936,     mean = 0.545,     deviation = 0.133\n",
      "\n",
      "128 Mel Spectrogram features:     min = 0.000,     max = 1005.190,     mean = 0.893,     deviation = 8.799\n",
      "\n",
      "40 MFCC features:                 min = -873.242,    max = 169.425,    mean = -9.606,    deviation = 78.659\n"
     ]
    }
   ],
   "source": [
    "# We would usually use df.describe(), but it provides a bit of a mess of information we don't need at the moment.\n",
    "def print_features(df):\n",
    "    # Check chromagram feature values\n",
    "    features_df_chromagram = df.loc[:,:11]\n",
    "    chroma_min = features_df_chromagram.min().min()\n",
    "    chroma_max = features_df_chromagram.max().max()\n",
    "    # stack all features into a single series so we don't get a mean of means or stdev of stdevs\n",
    "    chroma_mean = features_df_chromagram.stack().mean()\n",
    "    chroma_stdev = features_df_chromagram.stack().std()\n",
    "    print(f'12 Chromagram features:       \\\n",
    "    min = {chroma_min:.3f}, \\\n",
    "    max = {chroma_max:.3f}, \\\n",
    "    mean = {chroma_mean:.3f}, \\\n",
    "    deviation = {chroma_stdev:.3f}')\n",
    "\n",
    "    # Check mel spectrogram feature values\n",
    "    features_df_melspectrogram = df.loc[:,12:139]\n",
    "    mel_min = features_df_melspectrogram.min().min()\n",
    "    mel_max = features_df_melspectrogram.max().max()\n",
    "    # stack all features into a single series so we don't get a mean of means or stdev of stdevs\n",
    "    mel_mean = features_df_melspectrogram.stack().mean()\n",
    "    mel_stdev = features_df_melspectrogram.stack().std()\n",
    "    print(f'\\n128 Mel Spectrogram features: \\\n",
    "    min = {mel_min:.3f}, \\\n",
    "    max = {mel_max:.3f}, \\\n",
    "    mean = {mel_mean:.3f}, \\\n",
    "    deviation = {mel_stdev:.3f}')\n",
    "\n",
    "    # Check MFCC feature values\n",
    "    features_df_mfcc = df.loc[:,140:179]\n",
    "    mfcc_min = features_df_mfcc.min().min()\n",
    "    mfcc_max = features_df_mfcc.max().max()\n",
    "    # stack all features into a single series so we don't get a mean of means or stdev of stdevs\n",
    "    mfcc_mean = features_df_mfcc.stack().mean()\n",
    "    mfcc_stdev = features_df_mfcc.stack().std()\n",
    "    print(f'\\n40 MFCC features:             \\\n",
    "    min = {mfcc_min:.3f},\\\n",
    "    max = {mfcc_max:.3f},\\\n",
    "    mean = {mfcc_mean:.3f},\\\n",
    "    deviation = {mfcc_stdev:.3f}')\n",
    "\n",
    "print_features(features_df)"
   ]
  },
  {
   "cell_type": "markdown",
   "metadata": {
    "id": "gFgQlYSlL9hW"
   },
   "source": [
    "**There's an obvious imbalance in the variance our features; Our features indeed belong to very different distributions:** our MFC coefficients' deviation is greater than the other features by orders of magnitude. That does not mean MFC coefficients are the most important feature, but rather it is a property of the way they are computed.  We will certainly need to scale this feature set.\n",
    "\n",
    "We have the choice of sklearn's StandardScaler and MinMaxScaler. Standard scaling subtracts the mean of each feature and divides it by the standard deviation of that feature, producing features with mean at zero and unit variance - that is, a variance and standard deviation of 1. Min-Max scaling transforms each feature to be within a bounded interval that we specify.\n",
    "\n",
    "In practice, **MinMax scaling is especially useful when we know our features should be in a bounded interval**, such as pixel values in [0,255], while **standard scaling is perhaps more practical for features with unknown distributions** because centering the features at zero-mean with a standard deviation of 1 means extreme values will have less of an impact on the model's learned weights, i.e. the model is less sensitive to outliers.\n",
    "\n",
    "We'll create MinMax scaled features as well so we can give them a try later on to confirm that standard scaling is better in the absence of knowledge on the appropriate distribution for a dataset's features."
   ]
  },
  {
   "cell_type": "code",
   "execution_count": 244,
   "metadata": {
    "id": "_BCAYVEUL9hW"
   },
   "outputs": [],
   "source": [
    "from sklearn.preprocessing import StandardScaler\n",
    "from sklearn.preprocessing import MinMaxScaler\n",
    "\n",
    "scaler = StandardScaler()\n",
    "# keep our unscaled features just in case we need to process them alternatively\n",
    "features_scaled = features\n",
    "features_scaled = scaler.fit_transform(features_scaled)\n",
    "\n",
    "scaler = MinMaxScaler()\n",
    "# keep our unscaled features just in case we need to process them alternatively\n",
    "features_minmax = features\n",
    "features_minmax = scaler.fit_transform(features_minmax)"
   ]
  },
  {
   "cell_type": "markdown",
   "metadata": {
    "id": "r4ATx5oNL9hX"
   },
   "source": [
    "Make sure our features are properly scaled:"
   ]
  },
  {
   "cell_type": "code",
   "execution_count": 245,
   "metadata": {
    "colab": {
     "base_uri": "https://localhost:8080/"
    },
    "id": "mlRuHQkKL9hX",
    "outputId": "4bd31c3c-47ed-4f16-d45c-0767ceb48da8"
   },
   "outputs": [
    {
     "name": "stdout",
     "output_type": "stream",
     "text": [
      "\u001b[1mStandard Scaling:\n",
      "\u001b[0m\n",
      "12 Chromagram features:           min = -3.131,     max = 2.804,     mean = 0.000,     deviation = 1.000\n",
      "\n",
      "128 Mel Spectrogram features:     min = -0.502,     max = 57.999,     mean = -0.000,     deviation = 1.000\n",
      "\n",
      "40 MFCC features:                 min = -3.827,    max = 7.710,    mean = 0.000,    deviation = 1.000\n",
      "\n",
      "\n",
      "\u001b[1mMinMax Scaling:\n",
      "\u001b[0m\n",
      "12 Chromagram features:           min = 0.000,     max = 1.000,     mean = 0.527,     deviation = 0.193\n",
      "\n",
      "128 Mel Spectrogram features:     min = 0.000,     max = 1.000,     mean = 0.012,     deviation = 0.048\n",
      "\n",
      "40 MFCC features:                 min = 0.000,    max = 1.000,    mean = 0.390,    deviation = 0.183\n"
     ]
    }
   ],
   "source": [
    "print('\\033[1m'+'Standard Scaling:\\n'+'\\033[0m')\n",
    "features_scaled_df = pd.DataFrame(features_scaled)\n",
    "print_features(features_scaled_df)\n",
    "\n",
    "print('\\n\\n\\033[1m'+'MinMax Scaling:\\n'+'\\033[0m')\n",
    "features_minmax_df = pd.DataFrame(features_minmax)\n",
    "print_features(features_minmax_df)"
   ]
  },
  {
   "cell_type": "markdown",
   "metadata": {
    "id": "vZfzIh7DL9hX"
   },
   "source": [
    "Perfect. Zero mean and unit variance for standard scaling and in the range [0,1] for MinMax scaling - a default when we don't specify values. We can now move on to building predictive models for these features."
   ]
  },
  {
   "cell_type": "markdown",
   "metadata": {
    "id": "z5tXewLEL9hX"
   },
   "source": [
    "## Classical Machine Learning Models\n",
    "\n",
    "\n",
    "Classical machine learning models encompass a broad range of algorithms that have been foundational to the field's development and are still widely used for various predictive tasks. These models can be broadly categorized into supervised and unsupervised learning methods, each suited for different kinds of data and objectives.\n",
    "\n",
    "We will be looking into few popular Machine Learning Algorithms such as Support Vector Machine(SVM), K-Nearest Neighbors and Random Forest Classifier. There are many other classical models with their own strengths and weaknesses, and the choice of model depends on the specific requirements of the task, including the nature of the data, the complexity of the problem, and the computational efficiency required. Despite the rise of deep learning, classical machine learning models remain vital tools in a data scientist's arsenal due to their efficiency, interpretability, and strong performance in many scenarios.\n",
    "\n",
    "The use of classic machine learning method is due to the small size of our dataset; Some of the most robust models such as Support vector (machine) classifiers **(SVC) and k-Nearest-Neighbour classifiers (kNN) are particularly suited to smaller datasets and fall apart with huge datasets.**\n"
   ]
  },
  {
   "cell_type": "markdown",
   "metadata": {
    "id": "jwU-jXSGL9hY"
   },
   "source": [
    "### Training: The 80/20 Split and Validation\n",
    "In order to compare models, we'll have to evaluate their performance. The simplest method to do so is to train a model on a portion of our dataset and test it on the remainder. We'll use sklearn's train_test_split to create a standard 80/20 train/test split. The model is fit on 80% of\n",
    "the data and tested for performance against 20% of the data, which it has never seen in training - also called the hold-out set.\n",
    " <img src=\"https://github.com/IAT-ExploringAI-2024/Week3-Machine_Learning/blob/main/images/Capture2.PNG?raw=true\" width=\"800\">\n",
    "\n",
    "More accurately, the proper modality for training and scoring a model is to\n",
    "1. Fit/train our model on a _training_ set,\n",
    "2. Evaluate the model on a _validation_ set to tune the hyperparameters for better performance,\n",
    "3. Finally score our model's true performance - its **generalizability** - against a _test_ set, aka the hold-out set.\n",
    "4. Repeat from 2. **Do not tune the model to score well on the test set**.\n",
    "\n",
    "Different set ratios are used in this approach - a usual example is 60/20/20 train/validation/test.For simplicity, we're going to start with an 80/20 train/test split. The model will be trained on all the training data, and we will check its performance on the test data.\n",
    "\n",
    " <img src=\"https://github.com/IAT-ExploringAI-2024/Week3-Machine_Learning/blob/main/images/traintestsplit.PNG?raw=true\" width=\"800\">\n",
    "\n",
    "Define unscaled and scaled training and test sets:"
   ]
  },
  {
   "cell_type": "code",
   "execution_count": 246,
   "metadata": {
    "id": "8jGN4ROVL9hY"
   },
   "outputs": [],
   "source": [
    "from sklearn.model_selection import train_test_split\n",
    "\n",
    "\n",
    "############# Unscaled test/train set #############\n",
    "X_train, X_test, y_train, y_test =train_test_split(\n",
    "    features,\n",
    "    emotions,\n",
    "    test_size=0.2,\n",
    "    random_state=69\n",
    ")\n",
    "\n",
    "############ Standard Scaled test/train set ###########\n",
    "# The labels/classes (y_train, y_test) never change, keep old values\n",
    "X_train_scaled, X_test_scaled, _, _ = train_test_split(\n",
    "    features_scaled,\n",
    "    emotions,\n",
    "    test_size=0.2,\n",
    "    random_state=69\n",
    ")\n",
    "\n",
    "############# MinMax Scaled test/train set ###############\n",
    "# The labels/classes (y_train, y_test) never change, keep old values\n",
    "X_train_minmax, X_test_minmax, _, _ = train_test_split(\n",
    "    features_minmax,\n",
    "    emotions,\n",
    "    test_size=0.2,\n",
    "    random_state=69\n",
    ")"
   ]
  },
  {
   "cell_type": "markdown",
   "metadata": {
    "id": "Q3Mh0RrEL9hY"
   },
   "source": [
    "### Comparing Models\n",
    "We'll try each off-the-shelf machine learning model from sklearn and pick a few to explore, since these models will train near instantly on this dataset."
   ]
  },
  {
   "cell_type": "code",
   "execution_count": 267,
   "metadata": {
    "colab": {
     "base_uri": "https://localhost:8080/",
     "height": 300
    },
    "id": "iLPeyR7vL9he",
    "outputId": "067b25d8-9f5e-4d9c-f35f-cefcda65090a"
   },
   "outputs": [
    {
     "data": {
      "text/html": [
       "<div>\n",
       "<style scoped>\n",
       "    .dataframe tbody tr th:only-of-type {\n",
       "        vertical-align: middle;\n",
       "    }\n",
       "\n",
       "    .dataframe tbody tr th {\n",
       "        vertical-align: top;\n",
       "    }\n",
       "\n",
       "    .dataframe thead th {\n",
       "        text-align: right;\n",
       "    }\n",
       "</style>\n",
       "<table border=\"1\" class=\"dataframe\">\n",
       "  <thead>\n",
       "    <tr style=\"text-align: right;\">\n",
       "      <th></th>\n",
       "      <th>Classifier</th>\n",
       "      <th>Accuracy Score</th>\n",
       "    </tr>\n",
       "  </thead>\n",
       "  <tbody>\n",
       "    <tr>\n",
       "      <th>9</th>\n",
       "      <td>KNeighborsClassifier Tuned</td>\n",
       "      <td>87.06%</td>\n",
       "    </tr>\n",
       "    <tr>\n",
       "      <th>0</th>\n",
       "      <td>KNeighborsClassifier</td>\n",
       "      <td>84.73%</td>\n",
       "    </tr>\n",
       "    <tr>\n",
       "      <th>10</th>\n",
       "      <td>RandomForestClassifier Tuned</td>\n",
       "      <td>83.88%</td>\n",
       "    </tr>\n",
       "    <tr>\n",
       "      <th>5</th>\n",
       "      <td>RandomForestClassifier</td>\n",
       "      <td>83.14%</td>\n",
       "    </tr>\n",
       "    <tr>\n",
       "      <th>1</th>\n",
       "      <td>SVC</td>\n",
       "      <td>77.31%</td>\n",
       "    </tr>\n",
       "    <tr>\n",
       "      <th>2</th>\n",
       "      <td>SVC RBF kernel</td>\n",
       "      <td>75.61%</td>\n",
       "    </tr>\n",
       "    <tr>\n",
       "      <th>3</th>\n",
       "      <td>SVC (C=10)</td>\n",
       "      <td>72.75%</td>\n",
       "    </tr>\n",
       "    <tr>\n",
       "      <th>4</th>\n",
       "      <td>DecisionTreeClassifier</td>\n",
       "      <td>70.20%</td>\n",
       "    </tr>\n",
       "    <tr>\n",
       "      <th>8</th>\n",
       "      <td>QuadraticDiscriminantAnalysis</td>\n",
       "      <td>57.26%</td>\n",
       "    </tr>\n",
       "    <tr>\n",
       "      <th>7</th>\n",
       "      <td>GaussianNB</td>\n",
       "      <td>41.99%</td>\n",
       "    </tr>\n",
       "    <tr>\n",
       "      <th>6</th>\n",
       "      <td>AdaBoostClassifier</td>\n",
       "      <td>28.42%</td>\n",
       "    </tr>\n",
       "  </tbody>\n",
       "</table>\n",
       "</div>"
      ],
      "text/plain": [
       "                       Classifier Accuracy Score\n",
       "9      KNeighborsClassifier Tuned         87.06%\n",
       "0            KNeighborsClassifier         84.73%\n",
       "10   RandomForestClassifier Tuned         83.88%\n",
       "5          RandomForestClassifier         83.14%\n",
       "1                             SVC         77.31%\n",
       "2                  SVC RBF kernel         75.61%\n",
       "3                      SVC (C=10)         72.75%\n",
       "4          DecisionTreeClassifier         70.20%\n",
       "8   QuadraticDiscriminantAnalysis         57.26%\n",
       "7                      GaussianNB         41.99%\n",
       "6              AdaBoostClassifier         28.42%"
      ]
     },
     "execution_count": 267,
     "metadata": {},
     "output_type": "execute_result"
    }
   ],
   "source": [
    "from sklearn.neighbors import KNeighborsClassifier\n",
    "from sklearn.svm import SVC\n",
    "from sklearn.tree import DecisionTreeClassifier\n",
    "from sklearn.ensemble import RandomForestClassifier, AdaBoostClassifier\n",
    "from sklearn.naive_bayes import GaussianNB\n",
    "from sklearn.discriminant_analysis import QuadraticDiscriminantAnalysis\n",
    "\n",
    "classification_models = [\n",
    "    KNeighborsClassifier(),#(3),\n",
    "    SVC(kernel='linear'),#, C=0.025),\n",
    "    SVC(kernel='rbf'),\n",
    "    SVC(\n",
    "    C=10,  #higher the value tighter the margin\n",
    "    gamma='auto',\n",
    "    kernel='rbf',\n",
    "    random_state=69\n",
    "    ),\n",
    "    DecisionTreeClassifier(),#max_depth=5),\n",
    "    RandomForestClassifier(),#max_depth=5, n_estimators=10, max_features=1),\n",
    "    AdaBoostClassifier(),\n",
    "    GaussianNB(),\n",
    "    QuadraticDiscriminantAnalysis(),\n",
    "    KNeighborsClassifier(\n",
    "    n_neighbors = 5,\n",
    "    weights = 'distance',\n",
    "    algorithm = 'brute',\n",
    "    n_jobs=4\n",
    "    ),\n",
    "    RandomForestClassifier(\n",
    "    n_estimators = 500,\n",
    "    criterion ='entropy',\n",
    "    warm_start = True,\n",
    "    max_features = 'sqrt',\n",
    "    oob_score = True, # more on this below\n",
    "    random_state=69\n",
    ")\n",
    "]\n",
    "\n",
    "y_preds = []\n",
    "scores = []\n",
    "for model in classification_models:\n",
    "    model.fit(X_train_minmax, y_train)\n",
    "    score = model.score(X_test_minmax, y_test)\n",
    "    y_pred = model.predict(X_test_minmax)\n",
    "    model_name = type(model).__name__\n",
    "    if model_name=='SVC' and model.kernel=='rbf' and model.C==10: model_name+=' (C=10)'\n",
    "    if model_name=='SVC' and model.kernel=='rbf': model_name+=' RBF kernel'\n",
    "    if model_name=='KNeighborsClassifier' and model.algorithm=='brute': model_name+=' Tuned'\n",
    "    if model_name=='RandomForestClassifier' and model.criterion=='entropy': model_name+=' Tuned'\n",
    "    scores.append((model_name,(f'{100*score:.2f}%')))\n",
    "    y_preds.append(y_pred)\n",
    "# Make it pretty\n",
    "scores_df = pd.DataFrame(scores,columns=['Classifier','Accuracy Score'])\n",
    "scores_df.sort_values(by='Accuracy Score',axis=0,ascending=False)"
   ]
  },
  {
   "cell_type": "code",
   "execution_count": 279,
   "metadata": {},
   "outputs": [
    {
     "data": {
      "text/plain": [
       "array(['disgust', 'disgust', 'happiness', 'disgust', 'fear', 'happiness',\n",
       "       'fear', 'calm', 'fear', 'surprise', 'fear', 'neutral', 'happiness',\n",
       "       'surprise', 'neutral', 'sadness', 'surprise', 'neutral', 'disgust',\n",
       "       'anger', 'fear', 'surprise', 'neutral', 'fear', 'happiness',\n",
       "       'happiness', 'neutral', 'anger', 'calm', 'happiness', 'sadness',\n",
       "       'disgust', 'calm', 'fear', 'fear', 'neutral', 'calm', 'happiness',\n",
       "       'neutral', 'happiness', 'fear', 'neutral', 'disgust', 'surprise',\n",
       "       'disgust', 'disgust', 'neutral', 'sadness', 'anger', 'disgust',\n",
       "       'anger', 'anger', 'sadness', 'disgust', 'sadness', 'happiness',\n",
       "       'surprise', 'neutral', 'neutral', 'neutral', 'fear', 'disgust',\n",
       "       'disgust', 'sadness', 'neutral', 'disgust', 'sadness', 'surprise',\n",
       "       'calm', 'disgust', 'fear', 'happiness', 'neutral', 'neutral',\n",
       "       'happiness', 'sadness', 'anger', 'happiness', 'sadness', 'anger',\n",
       "       'fear', 'anger', 'fear', 'surprise', 'disgust', 'happiness',\n",
       "       'anger', 'disgust', 'disgust', 'surprise', 'fear', 'happiness',\n",
       "       'disgust', 'fear', 'surprise', 'fear', 'happiness', 'disgust',\n",
       "       'calm', 'surprise', 'disgust', 'anger', 'disgust', 'surprise',\n",
       "       'happiness', 'fear', 'neutral', 'neutral', 'surprise', 'neutral',\n",
       "       'neutral', 'sadness', 'fear', 'happiness', 'fear', 'anger',\n",
       "       'happiness', 'neutral', 'happiness', 'surprise', 'happiness',\n",
       "       'surprise', 'disgust', 'anger', 'anger', 'happiness', 'disgust',\n",
       "       'neutral', 'sadness', 'neutral', 'surprise', 'happiness', 'anger',\n",
       "       'anger', 'happiness', 'fear', 'sadness', 'neutral', 'fear',\n",
       "       'disgust', 'sadness', 'neutral', 'anger', 'anger', 'disgust',\n",
       "       'disgust', 'anger', 'neutral', 'anger', 'fear', 'fear',\n",
       "       'happiness', 'sadness', 'anger', 'sadness', 'anger', 'happiness',\n",
       "       'sadness', 'anger', 'anger', 'sadness', 'happiness', 'sadness',\n",
       "       'fear', 'happiness', 'disgust', 'disgust', 'sadness', 'disgust',\n",
       "       'happiness', 'surprise', 'anger', 'sadness', 'anger', 'disgust',\n",
       "       'calm', 'fear', 'fear', 'calm', 'surprise', 'happiness',\n",
       "       'surprise', 'sadness', 'anger', 'neutral', 'neutral', 'happiness',\n",
       "       'neutral', 'disgust', 'disgust', 'happiness', 'anger', 'neutral',\n",
       "       'neutral', 'neutral', 'anger', 'surprise', 'anger', 'fear',\n",
       "       'disgust', 'neutral', 'anger', 'disgust', 'fear', 'neutral',\n",
       "       'disgust', 'anger', 'surprise', 'fear', 'fear', 'happiness',\n",
       "       'surprise', 'disgust', 'happiness', 'sadness', 'sadness',\n",
       "       'surprise', 'fear', 'fear', 'anger', 'surprise', 'surprise',\n",
       "       'anger', 'fear', 'happiness', 'fear', 'fear', 'neutral',\n",
       "       'happiness', 'disgust', 'disgust', 'happiness', 'happiness',\n",
       "       'sadness', 'neutral', 'surprise', 'fear', 'disgust', 'surprise',\n",
       "       'anger', 'happiness', 'happiness', 'surprise', 'sadness',\n",
       "       'happiness', 'neutral', 'anger', 'surprise', 'anger', 'neutral',\n",
       "       'anger', 'sadness', 'surprise', 'anger', 'disgust', 'happiness',\n",
       "       'surprise', 'fear', 'surprise', 'anger', 'surprise', 'fear',\n",
       "       'neutral', 'fear', 'anger', 'happiness', 'neutral', 'fear',\n",
       "       'happiness', 'calm', 'anger', 'happiness', 'sadness', 'disgust',\n",
       "       'disgust', 'neutral', 'disgust', 'calm', 'fear', 'surprise',\n",
       "       'disgust', 'surprise', 'disgust', 'fear', 'anger', 'neutral',\n",
       "       'happiness', 'fear', 'calm', 'anger', 'sadness', 'sadness',\n",
       "       'neutral', 'sadness', 'disgust', 'sadness', 'sadness', 'anger',\n",
       "       'sadness', 'fear', 'anger', 'fear', 'happiness', 'calm',\n",
       "       'surprise', 'disgust', 'anger', 'neutral', 'disgust', 'fear',\n",
       "       'sadness', 'fear', 'disgust', 'surprise', 'surprise', 'disgust',\n",
       "       'happiness', 'anger', 'neutral', 'surprise', 'surprise', 'disgust',\n",
       "       'surprise', 'fear', 'surprise', 'neutral', 'neutral', 'anger',\n",
       "       'happiness', 'neutral', 'happiness', 'happiness', 'calm',\n",
       "       'surprise', 'fear', 'surprise', 'surprise', 'neutral', 'sadness',\n",
       "       'surprise', 'surprise', 'happiness', 'anger', 'calm', 'surprise',\n",
       "       'happiness', 'surprise', 'neutral', 'fear', 'sadness', 'neutral',\n",
       "       'fear', 'happiness', 'surprise', 'fear', 'neutral', 'neutral',\n",
       "       'anger', 'happiness', 'neutral', 'fear', 'sadness', 'neutral',\n",
       "       'surprise', 'neutral', 'neutral', 'fear', 'fear', 'sadness',\n",
       "       'sadness', 'disgust', 'sadness', 'disgust', 'disgust', 'happiness',\n",
       "       'disgust', 'disgust', 'happiness', 'disgust', 'sadness', 'sadness',\n",
       "       'fear', 'sadness', 'sadness', 'calm', 'neutral', 'calm', 'sadness',\n",
       "       'anger', 'sadness', 'anger', 'fear', 'happiness', 'calm',\n",
       "       'disgust', 'sadness', 'surprise', 'surprise', 'sadness', 'fear',\n",
       "       'fear', 'fear', 'surprise', 'surprise', 'anger', 'disgust',\n",
       "       'happiness', 'anger', 'sadness', 'happiness', 'surprise',\n",
       "       'neutral', 'sadness', 'anger', 'surprise', 'neutral', 'disgust',\n",
       "       'anger', 'disgust', 'disgust', 'neutral', 'happiness', 'anger',\n",
       "       'sadness', 'surprise', 'neutral', 'neutral', 'neutral', 'sadness',\n",
       "       'disgust', 'surprise', 'neutral', 'anger', 'happiness', 'surprise',\n",
       "       'fear', 'disgust', 'surprise', 'happiness', 'sadness', 'fear',\n",
       "       'happiness', 'fear', 'neutral', 'surprise', 'surprise', 'neutral',\n",
       "       'disgust', 'anger', 'fear', 'fear', 'sadness', 'anger', 'surprise',\n",
       "       'disgust', 'fear', 'surprise', 'neutral', 'happiness', 'sadness',\n",
       "       'surprise', 'happiness', 'neutral', 'sadness', 'calm', 'disgust',\n",
       "       'disgust', 'surprise', 'neutral', 'neutral', 'neutral', 'neutral',\n",
       "       'surprise', 'sadness', 'disgust', 'surprise', 'anger', 'anger',\n",
       "       'surprise', 'neutral', 'sadness', 'fear', 'fear', 'surprise',\n",
       "       'neutral', 'sadness', 'surprise', 'sadness', 'fear', 'happiness',\n",
       "       'surprise', 'surprise', 'neutral', 'anger', 'fear', 'happiness',\n",
       "       'fear', 'neutral', 'sadness', 'neutral', 'happiness', 'surprise',\n",
       "       'anger', 'sadness', 'fear', 'happiness', 'disgust', 'happiness',\n",
       "       'sadness', 'disgust', 'neutral', 'neutral', 'fear', 'anger',\n",
       "       'sadness', 'surprise', 'disgust', 'happiness', 'happiness',\n",
       "       'surprise', 'happiness', 'fear', 'surprise', 'surprise',\n",
       "       'surprise', 'surprise', 'disgust', 'surprise', 'calm', 'anger',\n",
       "       'fear', 'fear', 'sadness', 'calm', 'happiness', 'neutral',\n",
       "       'neutral', 'anger', 'happiness', 'surprise', 'sadness', 'anger',\n",
       "       'surprise', 'surprise', 'happiness', 'calm', 'neutral', 'disgust',\n",
       "       'anger', 'surprise', 'happiness', 'neutral', 'fear', 'fear',\n",
       "       'happiness', 'sadness', 'neutral', 'fear', 'anger', 'anger',\n",
       "       'surprise', 'happiness', 'sadness', 'anger', 'surprise',\n",
       "       'surprise', 'disgust', 'happiness', 'disgust', 'calm', 'anger',\n",
       "       'disgust', 'fear', 'sadness', 'happiness', 'sadness', 'disgust',\n",
       "       'disgust', 'disgust', 'happiness', 'disgust', 'surprise', 'fear',\n",
       "       'happiness', 'anger', 'happiness', 'happiness', 'neutral',\n",
       "       'sadness', 'neutral', 'neutral', 'neutral', 'anger', 'anger',\n",
       "       'fear', 'surprise', 'fear', 'neutral', 'fear', 'disgust',\n",
       "       'happiness', 'surprise', 'disgust', 'disgust', 'sadness',\n",
       "       'neutral', 'neutral', 'surprise', 'disgust', 'neutral', 'sadness',\n",
       "       'happiness', 'sadness', 'disgust', 'fear', 'anger', 'disgust',\n",
       "       'neutral', 'fear', 'disgust', 'anger', 'surprise', 'neutral',\n",
       "       'disgust', 'sadness', 'sadness', 'calm', 'surprise', 'surprise',\n",
       "       'sadness', 'fear', 'disgust', 'neutral', 'neutral', 'surprise',\n",
       "       'surprise', 'sadness', 'sadness', 'fear', 'fear', 'neutral',\n",
       "       'fear', 'sadness', 'anger', 'disgust', 'sadness', 'neutral',\n",
       "       'disgust', 'anger', 'happiness', 'surprise', 'anger', 'anger',\n",
       "       'fear', 'surprise', 'anger', 'fear', 'disgust', 'fear', 'calm',\n",
       "       'fear', 'happiness', 'neutral', 'anger', 'happiness', 'surprise',\n",
       "       'anger', 'neutral', 'sadness', 'surprise', 'disgust', 'anger',\n",
       "       'disgust', 'surprise', 'anger', 'neutral', 'fear', 'sadness',\n",
       "       'neutral', 'happiness', 'anger', 'anger', 'surprise', 'anger',\n",
       "       'fear', 'anger', 'fear', 'anger', 'surprise', 'anger', 'fear',\n",
       "       'fear', 'surprise', 'happiness', 'surprise', 'anger', 'happiness',\n",
       "       'surprise', 'anger', 'fear', 'disgust', 'surprise', 'surprise',\n",
       "       'happiness', 'fear', 'anger', 'disgust', 'happiness', 'sadness',\n",
       "       'neutral', 'sadness', 'surprise', 'anger', 'disgust', 'neutral',\n",
       "       'neutral', 'sadness', 'neutral', 'happiness', 'anger', 'surprise',\n",
       "       'happiness', 'sadness', 'happiness', 'surprise', 'surprise',\n",
       "       'calm', 'happiness', 'sadness', 'anger', 'happiness', 'anger',\n",
       "       'happiness', 'disgust', 'disgust', 'sadness', 'sadness', 'anger',\n",
       "       'disgust', 'sadness', 'disgust', 'surprise', 'disgust', 'disgust',\n",
       "       'sadness', 'sadness', 'sadness', 'neutral', 'surprise', 'surprise',\n",
       "       'anger', 'fear', 'disgust', 'anger', 'happiness', 'sadness',\n",
       "       'anger', 'anger', 'anger', 'anger', 'sadness', 'happiness',\n",
       "       'disgust', 'happiness', 'happiness', 'calm', 'disgust', 'anger',\n",
       "       'anger', 'fear', 'anger', 'happiness', 'disgust', 'happiness',\n",
       "       'fear', 'fear', 'happiness', 'fear', 'neutral', 'happiness',\n",
       "       'surprise', 'anger', 'fear', 'surprise', 'neutral', 'surprise',\n",
       "       'anger', 'disgust', 'happiness', 'disgust', 'calm', 'sadness',\n",
       "       'sadness', 'surprise', 'happiness', 'neutral', 'sadness',\n",
       "       'neutral', 'anger', 'fear', 'fear', 'surprise', 'disgust', 'fear',\n",
       "       'surprise', 'sadness', 'sadness', 'fear', 'neutral', 'disgust',\n",
       "       'sadness', 'fear', 'sadness', 'anger', 'happiness', 'disgust',\n",
       "       'happiness', 'fear', 'anger', 'happiness', 'anger', 'disgust',\n",
       "       'neutral', 'surprise', 'anger', 'sadness', 'disgust', 'disgust',\n",
       "       'sadness', 'sadness', 'anger', 'sadness', 'happiness', 'disgust',\n",
       "       'sadness', 'anger', 'surprise', 'happiness', 'anger', 'disgust',\n",
       "       'neutral', 'neutral', 'happiness', 'sadness', 'neutral',\n",
       "       'happiness', 'neutral', 'calm', 'neutral', 'sadness', 'sadness',\n",
       "       'disgust', 'fear', 'disgust', 'sadness', 'disgust', 'surprise',\n",
       "       'anger', 'disgust', 'surprise', 'sadness', 'happiness', 'fear',\n",
       "       'disgust', 'fear', 'happiness', 'disgust', 'calm', 'neutral',\n",
       "       'disgust', 'happiness', 'fear', 'disgust', 'sadness', 'neutral',\n",
       "       'anger', 'disgust', 'anger', 'calm', 'neutral', 'sadness',\n",
       "       'neutral', 'disgust', 'fear', 'fear', 'anger', 'surprise',\n",
       "       'happiness', 'neutral', 'disgust', 'anger', 'neutral', 'happiness',\n",
       "       'surprise', 'neutral', 'calm', 'calm', 'surprise', 'happiness',\n",
       "       'fear', 'surprise', 'happiness', 'anger', 'anger', 'disgust',\n",
       "       'happiness', 'happiness', 'happiness', 'fear', 'surprise',\n",
       "       'neutral', 'disgust', 'surprise', 'surprise', 'anger', 'neutral',\n",
       "       'happiness', 'happiness', 'neutral', 'happiness', 'happiness',\n",
       "       'fear', 'sadness', 'sadness', 'anger', 'disgust', 'happiness',\n",
       "       'happiness', 'fear', 'disgust', 'calm', 'sadness', 'calm', 'fear',\n",
       "       'sadness', 'neutral', 'fear', 'surprise', 'neutral', 'calm',\n",
       "       'calm', 'sadness', 'fear'], dtype=object)"
      ]
     },
     "execution_count": 279,
     "metadata": {},
     "output_type": "execute_result"
    }
   ],
   "source": [
    "y_preds[9]"
   ]
  },
  {
   "cell_type": "code",
   "execution_count": 280,
   "metadata": {},
   "outputs": [
    {
     "name": "stdout",
     "output_type": "stream",
     "text": [
      "              precision    recall  f1-score   support\n",
      "\n",
      "       anger       0.89      0.88      0.89       130\n",
      "        calm       0.89      0.84      0.86        38\n",
      "     disgust       0.94      0.87      0.91       143\n",
      "        fear       0.83      0.85      0.84       122\n",
      "   happiness       0.83      0.79      0.81       141\n",
      "     neutral       0.86      0.97      0.91       115\n",
      "     sadness       0.88      0.88      0.88       120\n",
      "    surprise       0.87      0.87      0.87       134\n",
      "\n",
      "    accuracy                           0.87       943\n",
      "   macro avg       0.87      0.87      0.87       943\n",
      "weighted avg       0.87      0.87      0.87       943\n",
      "\n",
      "[[115   0   3   0   7   0   1   4]\n",
      " [  1  32   0   0   1   2   2   0]\n",
      " [  2   0 125   4   2   3   5   2]\n",
      " [  3   0   3 104   4   1   4   3]\n",
      " [  6   0   0  11 111   4   1   8]\n",
      " [  0   1   0   0   0 112   1   1]\n",
      " [  0   2   1   5   1   6 105   0]\n",
      " [  2   1   1   2   8   2   1 117]]\n"
     ]
    }
   ],
   "source": [
    "# from sklearn.metrics import confusion_matrix\n",
    "# from sklearn.metrics import classification_report\n",
    "print(classification_report(y_test, y_preds[9]))\n",
    "print(confusion_matrix(y_test, y_preds[9]))"
   ]
  },
  {
   "cell_type": "code",
   "execution_count": 283,
   "metadata": {},
   "outputs": [],
   "source": [
    "y_pred = y_preds[9]"
   ]
  },
  {
   "cell_type": "code",
   "execution_count": 286,
   "metadata": {},
   "outputs": [
    {
     "data": {
      "image/png": "[encoded data removed]",
      "text/plain": [
       "<Figure size 640x480 with 2 Axes>"
      ]
     },
     "metadata": {},
     "output_type": "display_data"
    }
   ],
   "source": [
    "import matplotlib.pyplot as plt\n",
    "from sklearn.metrics import confusion_matrix, ConfusionMatrixDisplay\n",
    "\n",
    "cm = confusion_matrix(y_test, y_pred, labels=model.classes_)\n",
    "cmn = cm/cm.astype(float).sum(axis=1)\n",
    "\n",
    "disp = ConfusionMatrixDisplay(confusion_matrix=cmn,\n",
    "                              display_labels=model.classes_)\n",
    "disp.plot()\n",
    "plt.xticks(rotation=90)\n",
    "\n",
    "plt.show()"
   ]
  },
  {
   "cell_type": "markdown",
   "metadata": {},
   "source": [
    "### -------------- End of My Changes ------------- ###"
   ]
  },
  {
   "cell_type": "markdown",
   "metadata": {
    "id": "JrD98CpPL9he"
   },
   "source": [
    "Let's pick the top three - Random Forests, SVC, and kNN - and take a closer look at each of them."
   ]
  },
  {
   "cell_type": "markdown",
   "metadata": {
    "id": "4dBNoEolL9hf"
   },
   "source": [
    "### The Support Vector Machine Classifier\n",
    "\n",
    "We'll go in chronological order. First is the support vector machine classifier (SVC) - a model from the 60s. SVMs are models quick to train for this task and best suited to small datasets due to its quadratic time complexity w.r.t. size of the training dataset (# of training samples). This is also the reason it breaks down with larger datasets since it becomes very expensive to train.\n",
    "\n",
    "The idea behind SVMs on which the SVC model is based is to find a separating hyperplane - a subspace with dimension one less than that of the feature space - for points in our feature space; i.e. for a 3D space, a hyperplane is a regular plane, in 2D, a line. This idea extends to n dimensions. If points are separable by a hyperplane, they are said to be linearly separable. **Since there are infinite possible separating hyperplanes for any linearly separable feature space, an SVM computes which points are closest to each such hyperplane and uses them to construct a _support vector_. The SVM picks the hyperplane which maximizes the distance - _margin_ - to each support vector.** In this way, we maximize the separating ability of the chosen hyperplane.\n",
    "\n",
    "The core of SVMs is the kernel. We could map all new points from our input space, where they were not separable by a hyperplane, to a higher dimension in which we have found a hyperplane to separate the points in that space. However, that would be extremely computationally expensive for data that needs to be mapped to much higher dimensions. Instead, we **compute the hyperplane in the higher dimension on our training data and map the hyperplane back to the lower-dimension input space to use for classifying our data. This is the _kernel trick_, whereby the kernel (function) enables us to compute distances to new points in the input space without transforming each to the higher dimensional space - drastically reducing the computational complexity of the SVM.**\n",
    "\n",
    " <img src=\"https://github.com/IAT-ExploringAI-2024/Week3-Machine_Learning/blob/main/images/kernel1.png?raw=true\" width=\"800\">"
   ]
  },
  {
   "cell_type": "markdown",
   "metadata": {
    "id": "r-VTE6HjL9hf"
   },
   "source": [
    "A linear kernel should always be tested because **a linear kernel is much faster to train than a non-linear kernel**; however, properly tuned, a non-linear kernel often provides the best possible predictive performance. **RBF (radial basis function) is a good default to use for a non-linear kernel** and often is the best non-linear kernel because it usually provides a higher accuracy compared to other non-linear kernels at the cost of higher computational complexity. We can afford to try the RBF kernel because our dataset is small.\n",
    "\n",
    "If you want to explore further please have a look at [this article](https://www.analyticsvidhya.com/blog/2021/10/support-vector-machinessvm-a-complete-guide-for-beginners/)"
   ]
  },
  {
   "cell_type": "code",
   "execution_count": 30,
   "metadata": {
    "colab": {
     "base_uri": "https://localhost:8080/"
    },
    "id": "ruBbt50ML9hf",
    "outputId": "9f92107e-3784-4ff9-d143-651068f65b7e"
   },
   "outputs": [
    {
     "name": "stdout",
     "output_type": "stream",
     "text": [
      "SVC Model's accuracy on training set is 82.95%\n",
      "SVC Model's accuracy on test set is 61.80%\n"
     ]
    }
   ],
   "source": [
    "from sklearn.svm import SVC\n",
    "\n",
    "model = SVC(\n",
    "    C=10,  #higher the value tighter the margin\n",
    "    gamma='auto',\n",
    "    kernel='rbf',\n",
    "    random_state=69\n",
    ")\n",
    "\n",
    "model.fit(X_train_scaled, y_train)\n",
    "\n",
    "print(f'SVC Model\\'s accuracy on training set is {100*model.score(X_train_scaled, y_train):.2f}%')\n",
    "print(f'SVC Model\\'s accuracy on test set is {100*model.score(X_test_scaled, y_test):.2f}%')"
   ]
  },
  {
   "cell_type": "markdown",
   "metadata": {
    "id": "PIm1a-tiL9hg"
   },
   "source": [
    "Not bad at all for the relatively simple SVC model. **Hyperparameter 𝐶 regulates the margin.** It might do well to optimize the SVC model further if we don't find a better one. As it stands, we are looking for considerably higher performance in this task.\n",
    "\n",
    "Check out [this link](https://towardsdatascience.com/visualizing-the-effect-of-hyperparameters-on-support-vector-machines-b9eef6f7357b) for visual representation of affect of changes in C and gamma."
   ]
  },
  {
   "cell_type": "markdown",
   "metadata": {
    "id": "j72LJRfCL9hg"
   },
   "source": [
    "### k Nearest Neighbours\n",
    "\n",
    "k Nearest Neighbours (kNN) is next in line, a tried-and-true machine learning method from the 70s. kNN makes a lot of intuitive sense: imagine plotting points on a graph and drawing gates around points that look like they belong to the same group. That's what it is - we **plot our training samples' features and compare a test sample's features' distance to all those points; then just take the _k_ closest points to the test sample and pick the most frequent label/class.** That's it.\n",
    "\n",
    "kNN is a great starting point for multiclass problems with small datasets, although on large dadtasets less reliable and extremely memory hungry (it stores all training sample points). kNN is also useful in that it makes **no assumptions about the underlying distribution of the data set - so kNNs work well for both linear and non-linear data.** In the 2D example:\n",
    "\n",
    "<img src=\"https://github.com/IAT-ExploringAI-2024/Week3-Machine_Learning/blob/main/images/knn.png?raw=true\" width=400 height=400 />"
   ]
  },
  {
   "cell_type": "code",
   "execution_count": 266,
   "metadata": {
    "colab": {
     "base_uri": "https://localhost:8080/"
    },
    "id": "qaeCneMiL9hg",
    "outputId": "5c771b63-ba5d-4ef2-93be-eee445e3332d"
   },
   "outputs": [
    {
     "name": "stdout",
     "output_type": "stream",
     "text": [
      "Default kNN Model's accuracy on training set is 67.60%\n",
      "Default kNN Model's accuracy on test set is 63.41%\n",
      "\n",
      "kNN Model's accuracy on training set is 68.24%\n",
      "kNN Model's accuracy on test set is 64.26%\n",
      "              precision    recall  f1-score   support\n",
      "\n",
      "       anger       0.89      0.88      0.89       130\n",
      "        calm       0.89      0.84      0.86        38\n",
      "     disgust       0.94      0.87      0.91       143\n",
      "        fear       0.83      0.85      0.84       122\n",
      "   happiness       0.83      0.79      0.81       141\n",
      "     neutral       0.86      0.97      0.91       115\n",
      "     sadness       0.88      0.88      0.88       120\n",
      "    surprise       0.87      0.87      0.87       134\n",
      "\n",
      "    accuracy                           0.87       943\n",
      "   macro avg       0.87      0.87      0.87       943\n",
      "weighted avg       0.87      0.87      0.87       943\n",
      "\n"
     ]
    }
   ],
   "source": [
    "from sklearn.neighbors import KNeighborsClassifier\n",
    "\n",
    "####### Default kNN  ########\n",
    "model = KNeighborsClassifier(\n",
    ")\n",
    "\n",
    "model.fit(X_train_minmax, y_train)\n",
    "\n",
    "print(f'Default kNN Model\\'s accuracy on training set is {100*model.score(X_train_scaled, y_train):.2f}%')\n",
    "print(f'Default kNN Model\\'s accuracy on test set is {100*model.score(X_test_scaled, y_test):.2f}%\\n')\n",
    "\n",
    "##### (hastily) tuned kNN ######\n",
    "model = KNeighborsClassifier(\n",
    "    n_neighbors = 5,\n",
    "    weights = 'distance',\n",
    "    algorithm = 'brute',\n",
    "    n_jobs=4\n",
    ")\n",
    "\n",
    "model.fit(X_train_minmax, y_train)\n",
    "y_pred = model.predict(X_test_minmax)\n",
    "\n",
    "print(f'kNN Model\\'s accuracy on training set is {100*model.score(X_train_scaled, y_train):.2f}%')\n",
    "print(f'kNN Model\\'s accuracy on test set is {100*model.score(X_test_scaled, y_test):.2f}%')\n",
    "\n",
    "print(classification_report(y_test, y_pred))"
   ]
  },
  {
   "cell_type": "markdown",
   "metadata": {
    "id": "BxVEKUyiL9hh"
   },
   "source": [
    "**The brute-force algorithm computes distances between all pairs of points in the training set; works especially well for small datasets** but wildly inefficient w.r.t. increasing samples and feature space dimension. Not bad for 2 minutes of work, but still not suitable for this task."
   ]
  },
  {
   "cell_type": "markdown",
   "metadata": {
    "id": "zvQ3av4cL9hh"
   },
   "source": [
    "### Random Forests\n",
    "Finally, and before resorting to deep learning methods, let's try a Random Forest -  a model from the 21st century (2001). **We train many distinct decision trees which are essentially directed acyclic graphs (DAGs), somewhat similar to a flow chart. The collection of (decision) trees makes up our Random Forest.**\n",
    "\n",
    "At each node of the tree we have a function (a rule) that evaluates whether the features of samples input to that node belong to one class or another. Each branch of the tree (or, edge of the graph) defines one of two possible results from a node, and each leaf is one of two decisions made by its parent node. **Each tree in the forest evaluates a random subset of the training samples' features and has a rule at each level of the tree that classifies based on these random features - hence, _Random_ Forest. This random selection of features makes Random Forests robust to outliers**, as such features will have less of an impact in the scope of the entire forest, most of whose trees operate on the \"real\" features.\n",
    "\n",
    "**Random Forests are excellent models to use as a benchmark due to their low time complexity to train and because it is an ensemble method, their robustness to unknown distributions and outliers in the dataset,** meaning Random Forests require relatively little exploratory analysis in both the data and training the model to get an idea of their performance in a task.\n",
    "\n",
    "<img src=\"https://github.com/IliaZenkov/sklearn-audio-classification/blob/master/img/randomforest.png?raw=true\" width=500 height=500 />"
   ]
  },
  {
   "cell_type": "code",
   "execution_count": 36,
   "metadata": {
    "colab": {
     "base_uri": "https://localhost:8080/"
    },
    "id": "j9BWmcV9L9hh",
    "outputId": "95d3ddff-07d3-4bbf-d2c4-e14833871d77"
   },
   "outputs": [
    {
     "name": "stdout",
     "output_type": "stream",
     "text": [
      "Default Random Forest Model's accuracy on training set is 100.00%\n",
      "Default Random Forest Model's accuracy on test set is 60.13%\n",
      "\n",
      "Random Forest Model's accuracy on training set is 100.00%\n",
      "Random Forest Model's accuracy on test set is 63.88%\n"
     ]
    }
   ],
   "source": [
    "from sklearn.ensemble import RandomForestClassifier\n",
    "\n",
    "####### Default Random Forest ########\n",
    "model = RandomForestClassifier(\n",
    "    random_state=69\n",
    ")\n",
    "\n",
    "model.fit(X_train_scaled, y_train)\n",
    "\n",
    "print(f'Default Random Forest Model\\'s accuracy on training set is {100*model.score(X_train_scaled, y_train):.2f}%')\n",
    "print(f'Default Random Forest Model\\'s accuracy on test set is {100*model.score(X_test_scaled, y_test):.2f}%\\n')\n",
    "\n",
    "\n",
    "########## Tuned Random Forest #######\n",
    "model = RandomForestClassifier(\n",
    "    n_estimators = 500,\n",
    "    criterion ='entropy',\n",
    "    warm_start = True,\n",
    "    max_features = 'sqrt',\n",
    "    oob_score = True, # more on this below\n",
    "    random_state=69\n",
    ")\n",
    "\n",
    "model.fit(X_train_scaled, y_train)\n",
    "\n",
    "print(f'Random Forest Model\\'s accuracy on training set is {100*model.score(X_train_scaled, y_train):.2f}%')\n",
    "print(f'Random Forest Model\\'s accuracy on test set is {100*model.score(X_test_scaled, y_test):.2f}%')"
   ]
  },
  {
   "cell_type": "markdown",
   "metadata": {
    "id": "vM9-k8KLL9hi"
   },
   "source": [
    "Not bad for zero effort put into the default model. **Random Forests make a good benchmark model**, especially when strapped for time.\n",
    "\n",
    "**_Max features_ defines size of random feature subset decided upon at each node; sqrt(#features) is a good default for classification.**\n",
    "\n",
    "**_Gini_ and _Entropy_ are functions computing quality of classified samples within each node; they almost always provide similar performance but Entropy is more suited to classification while Gini is better for continuous variables.**\n"
   ]
  },
  {
   "cell_type": "markdown",
   "metadata": {
    "id": "DnhnxuGXL9hi"
   },
   "source": [
    "\n",
    "As wonderful as Random Forests are, it's clear that we're going to need to pull out bigger guns if we want to get appreciable performance on this dataset, perhaps even with good generalizability on test data. DNNs(Deep Neural Networks) are the next step-up in complexity from classical machine learning models, and we will start at the first rung on that ladder:Simple Perceptron in next lab!"
   ]
  }
 ],
 "metadata": {
  "colab": {
   "include_colab_link": true,
   "provenance": [],
   "toc_visible": true
  },
  "kernelspec": {
   "display_name": "Python 3 (ipykernel)",
   "language": "python",
   "name": "python3"
  },
  "language_info": {
   "codemirror_mode": {
    "name": "ipython",
    "version": 3
   },
   "file_extension": ".py",
   "mimetype": "text/x-python",
   "name": "python",
   "nbconvert_exporter": "python",
   "pygments_lexer": "ipython3",
   "version": "3.12.1"
  }
 },
 "nbformat": 4,
 "nbformat_minor": 4
}
